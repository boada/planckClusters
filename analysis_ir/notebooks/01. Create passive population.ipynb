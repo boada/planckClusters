{
 "cells": [
  {
   "cell_type": "code",
   "execution_count": 270,
   "metadata": {},
   "outputs": [],
   "source": [
    "import matplotlib.pyplot as plt                                                       \n",
    "from matplotlib import cm\n",
    "from astropy.coordinates import SkyCoord\n",
    "import astropy.units as u\n",
    "import numpy as np\n",
    "import ezgal # BC03 model maker\n",
    "import os\n",
    "from astropy.cosmology import LambdaCDM"
   ]
  },
  {
   "cell_type": "code",
   "execution_count": 271,
   "metadata": {},
   "outputs": [],
   "source": [
    "# check to make sure we have defined the bpz filter path\n",
    "if not os.getenv('EZGAL_FILTERS'):\n",
    "    os.environ['EZGAL_FILTERS'] = (f'{os.environ[\"HOME\"]}/Projects/planckClusters/MOSAICpipe/bpz-1.99.3/FILTER/')"
   ]
  },
  {
   "cell_type": "code",
   "execution_count": 143,
   "metadata": {},
   "outputs": [],
   "source": [
    "def setup_models(zf, tau):\n",
    "    #model = ezgal.model('bc03_exp_0.1_z_0.02_salp.model')\n",
    "    model = ezgal.model('bc03_ssp_z_0.02_chab.model')\n",
    "\n",
    "    if isinstance(tau, list):\n",
    "        raise ValueError('tau cannot be a list')\n",
    "    exp = model.make_exponential(tau)\n",
    "\n",
    "    # set cosmology\n",
    "    exp.set_cosmology(Om=0.3, Ol=0.7, h=0.7, w=-1)\n",
    "    # set the model normalization to Dai et al 2009 (ApJ, 697, 506)\n",
    "    exp.set_normalization('ch1', 0.24, -25.06, vega=True)\n",
    "    exp.add_filter('g_MOSAICII.res', name='g')\n",
    "    exp.add_filter('r_MOSAICII.res', name='r')\n",
    "    exp.add_filter('i_MOSAICII.res', name='i')\n",
    "    exp.add_filter('z_MOSAICII.res', name='z')\n",
    "    exp.add_filter('K_KittPeak.res', name='K')\n",
    "    exp.set_zfs(zf)\n",
    "\n",
    "    return exp"
   ]
  },
  {
   "cell_type": "code",
   "execution_count": 102,
   "metadata": {},
   "outputs": [
    {
     "name": "stdout",
     "output_type": "stream",
     "text": [
      "/home/boada/.local/lib/python3.6/site-packages/ezgal/data/models/bc03_ssp_z_0.02_chab.model\n"
     ]
    }
   ],
   "source": [
    "model = setup_models(5, 1)"
   ]
  },
  {
   "cell_type": "code",
   "execution_count": 272,
   "metadata": {},
   "outputs": [
    {
     "data": {
      "text/plain": [
       "LambdaCDM(H0=70 km / (Mpc s), Om0=0.3, Ode0=0.7, Tcmb0=2.725 K, Neff=3.04, m_nu=[0. 0. 0.] eV, Ob0=None)"
      ]
     },
     "execution_count": 272,
     "metadata": {},
     "output_type": "execute_result"
    }
   ],
   "source": [
    "cosmo = LambdaCDM(H0=70, Om0=0.3, Ode0=0.7, Tcmb0=2.725)\n",
    "cosmo"
   ]
  },
  {
   "cell_type": "code",
   "execution_count": 283,
   "metadata": {},
   "outputs": [],
   "source": [
    "z = numpy.arange(0.01, 1.5, 0.01)"
   ]
  },
  {
   "cell_type": "code",
   "execution_count": 284,
   "metadata": {},
   "outputs": [],
   "source": [
    "dlum = cosmo.luminosity_distance(z)"
   ]
  },
  {
   "cell_type": "code",
   "execution_count": 285,
   "metadata": {},
   "outputs": [],
   "source": [
    "h = cosmo.H0.value/100"
   ]
  },
  {
   "cell_type": "code",
   "execution_count": 286,
   "metadata": {},
   "outputs": [],
   "source": [
    "# Calculate some cosmological stuff\n",
    "DM = cosmo.distmod(z)\n",
    "dlum = cosmo.luminosity_distance(z)"
   ]
  },
  {
   "cell_type": "markdown",
   "metadata": {},
   "source": [
    "Here we are going to normalize the output to be $M_\\star$ galaxy as defined by Blanton et al 2003. Blanton 2003 says $M^r_\\star - 5 log(h) = -20.44 \\pm 0.01$ in the $r$ band at $z=0.1$. The rest of the bands, are listed in Table 2."
   ]
  },
  {
   "cell_type": "code",
   "execution_count": 398,
   "metadata": {},
   "outputs": [],
   "source": [
    "Mr_star = -20.44 + 5 * np.log10(h) # abs mag.\n",
    "Mi_star = -21.22 - 5 * np.log10(h)\n",
    "#Mi_star = -20.82"
   ]
  },
  {
   "cell_type": "code",
   "execution_count": 422,
   "metadata": {},
   "outputs": [],
   "source": [
    "# set the normalization\n",
    "model.set_normalization('r', 0.1, Mr_star, vega=False)"
   ]
  },
  {
   "cell_type": "code",
   "execution_count": 423,
   "metadata": {},
   "outputs": [],
   "source": [
    "# now we can calculate the corresponding Mstar values in any other band.\n",
    "# Remember we defined our model (above) to have a zf=5.\n",
    "# Blanton is defined at z=0.1\n",
    "filter = 'i'\n",
    "Mstar = model.get_absolute_mags(5, filters=filter, zs=0.1)"
   ]
  },
  {
   "cell_type": "code",
   "execution_count": 424,
   "metadata": {},
   "outputs": [],
   "source": [
    "mstar = (Mstar + DM.value + model.get_kcorrects(5, filters=filter, zs=z) +\n",
    "      model.get_ecorrects(5, filters=filter, zs=z) -\n",
    "      model.get_ecorrects(5, filters=filter, zs=0.1))"
   ]
  },
  {
   "cell_type": "code",
   "execution_count": 425,
   "metadata": {},
   "outputs": [],
   "source": [
    "LBCG = 4.0\n",
    "mstar_sub = mstar - 2.5 * numpy.log10(0.4)                                 \n",
    "BCG = mstar - 2.5 * numpy.log10(LBCG)"
   ]
  },
  {
   "cell_type": "code",
   "execution_count": 427,
   "metadata": {},
   "outputs": [
    {
     "data": {
      "image/png": "[encoded data removed]",
      "text/plain": [
       "<Figure size 432x288 with 1 Axes>"
      ]
     },
     "metadata": {
      "needs_background": "light"
     },
     "output_type": "display_data"
    }
   ],
   "source": [
    "import matplotlib.pyplot as plt\n",
    "fig, axes = plt.subplots(1)\n",
    "axes.plot(z, mstar_sub, 'k-', linewidth=0.5, label='$0.4L_\\star$ galaxy')  \n",
    "axes.plot(z, mstar, 'k-', linewidth=1.5, label='$L_\\star$ galaxy')         \n",
    "axes.plot(z, BCG, 'k-', linewidth=2.5, label='$%dL_\\star$ (BCG)' % LBCG)   \n",
    "axes.set_xlabel('Redshift')                                                \n",
    "axes.set_ylabel(f'{filter} mag')\n",
    "axes.legend(loc='lower right', fancybox=True, shadow=True)                 \n",
    "\n",
    "axes.set_xlim(0.05, 1.5)                                                   \n",
    "axes.set_ylim(16, 26)  \n",
    "plt.grid()"
   ]
  },
  {
   "cell_type": "code",
   "execution_count": 420,
   "metadata": {},
   "outputs": [
    {
     "data": {
      "text/plain": [
       "-20.445490200071283"
      ]
     },
     "execution_count": 420,
     "metadata": {},
     "output_type": "execute_result"
    }
   ],
   "source": [
    "Mi_star"
   ]
  },
  {
   "cell_type": "code",
   "execution_count": 421,
   "metadata": {},
   "outputs": [
    {
     "data": {
      "text/plain": [
       "-20.445490200071283"
      ]
     },
     "execution_count": 421,
     "metadata": {},
     "output_type": "execute_result"
    }
   ],
   "source": [
    "Mstar"
   ]
  },
  {
   "cell_type": "code",
   "execution_count": 312,
   "metadata": {},
   "outputs": [
    {
     "data": {
      "text/plain": [
       "0.0"
      ]
     },
     "execution_count": 312,
     "metadata": {},
     "output_type": "execute_result"
    }
   ],
   "source": [
    "np.log10(1)"
   ]
  },
  {
   "cell_type": "code",
   "execution_count": 404,
   "metadata": {},
   "outputs": [
    {
     "data": {
      "text/plain": [
       "-20.445490200071283"
      ]
     },
     "execution_count": 404,
     "metadata": {},
     "output_type": "execute_result"
    }
   ],
   "source": [
    "-21.22 - 5 * numpy.log10(h)"
   ]
  },
  {
   "cell_type": "code",
   "execution_count": null,
   "metadata": {},
   "outputs": [],
   "source": []
  }
 ],
 "metadata": {
  "kernelspec": {
   "display_name": "Python 3",
   "language": "python",
   "name": "python3"
  },
  "language_info": {
   "codemirror_mode": {
    "name": "ipython",
    "version": 3
   },
   "file_extension": ".py",
   "mimetype": "text/x-python",
   "name": "python",
   "nbconvert_exporter": "python",
   "pygments_lexer": "ipython3",
   "version": "3.6.5"
  }
 },
 "nbformat": 4,
 "nbformat_minor": 2
}
