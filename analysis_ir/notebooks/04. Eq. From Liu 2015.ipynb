{
 "cells": [
  {
   "cell_type": "code",
   "execution_count": 31,
   "metadata": {},
   "outputs": [],
   "source": [
    "%matplotlib notebook\n",
    "from astropy.cosmology import LambdaCDM\n",
    "import numpy as np\n",
    "import matplotlib.pyplot as plt\n",
    "from astropy import constants as const\n",
    "import astropy.units as u\n",
    "from scipy.integrate import quad"
   ]
  },
  {
   "cell_type": "code",
   "execution_count": 32,
   "metadata": {},
   "outputs": [],
   "source": [
    "cosmo = LambdaCDM(H0=70, Om0=0.3, Ode0=0.7, Tcmb0=2.725)"
   ]
  },
  {
   "cell_type": "code",
   "execution_count": 44,
   "metadata": {},
   "outputs": [],
   "source": [
    "z = np.arange(0, 1.5, 0.01)\n",
    "z=0.4"
   ]
  },
  {
   "cell_type": "code",
   "execution_count": 45,
   "metadata": {},
   "outputs": [],
   "source": [
    "phi_star = 3.6 * cosmo.efunc(z)**2\n",
    "alpha = -1.05 * (1 + z)**(-2/3)\n",
    "fr = 0.8*(1 + z)**(-1/2)"
   ]
  },
  {
   "cell_type": "code",
   "execution_count": 35,
   "metadata": {},
   "outputs": [
    {
     "data": {
      "text/plain": [
       "array([-1.05      , -1.04305782, -1.03622926, -1.02951137, -1.02290132,\n",
       "       -1.01639636, -1.00999383, -1.00369119, -0.99748597, -0.99137577,\n",
       "       -0.98535829, -0.9794313 , -0.97359264, -0.96784023, -0.96217204,\n",
       "       -0.95658611, -0.95108056, -0.94565355, -0.9403033 , -0.93502809,\n",
       "       -0.92982625, -0.92469616, -0.91963624, -0.91464499, -0.90972091,\n",
       "       -0.90486257, -0.90006858, -0.89533759, -0.89066828, -0.88605938,\n",
       "       -0.88150964, -0.87701786, -0.87258286, -0.86820351, -0.8638787 ,\n",
       "       -0.85960735, -0.85538841, -0.85122085, -0.84710369, -0.84303596,\n",
       "       -0.83901671, -0.83504502, -0.83112001, -0.82724079, -0.82340653,\n",
       "       -0.81961638, -0.81586956, -0.81216526, -0.80850273, -0.80488121,\n",
       "       -0.80129997, -0.79775831, -0.79425552, -0.79079093, -0.78736388,\n",
       "       -0.78397371, -0.78061981, -0.77730154, -0.77401832, -0.77076955,\n",
       "       -0.76755466, -0.76437308, -0.76122426, -0.75810768, -0.7550228 ,\n",
       "       -0.75196911, -0.74894612, -0.74595332, -0.74299024, -0.74005642,\n",
       "       -0.73715138, -0.73427469, -0.7314259 , -0.72860458, -0.72581031,\n",
       "       -0.72304268, -0.72030128, -0.71758572, -0.71489561, -0.71223057,\n",
       "       -0.70959023, -0.70697423, -0.7043822 , -0.7018138 , -0.69926869,\n",
       "       -0.69674653, -0.69424699, -0.69176974, -0.68931448, -0.68688088,\n",
       "       -0.68446866, -0.6820775 , -0.67970711, -0.67735721, -0.67502752,\n",
       "       -0.67271776, -0.67042765, -0.66815694, -0.66590535, -0.66367264,\n",
       "       -0.66145855, -0.65926284, -0.65708525, -0.65492556, -0.65278353,\n",
       "       -0.65065893, -0.64855153, -0.64646111, -0.64438745, -0.64233035,\n",
       "       -0.64028958, -0.63826495, -0.63625625, -0.63426327, -0.63228583,\n",
       "       -0.63032373, -0.62837678, -0.6264448 , -0.6245276 , -0.622625  ,\n",
       "       -0.62073683, -0.6188629 , -0.61700306, -0.61515712, -0.61332493,\n",
       "       -0.61150633, -0.60970114, -0.60790922, -0.6061304 , -0.60436454,\n",
       "       -0.60261149, -0.60087109, -0.59914321, -0.5974277 , -0.59572441,\n",
       "       -0.59403321, -0.59235396, -0.59068653, -0.58903079, -0.5873866 ,\n",
       "       -0.58575383, -0.58413237, -0.58252208, -0.58092284, -0.57933453,\n",
       "       -0.57775704, -0.57619024, -0.57463402, -0.57308826, -0.57155286])"
      ]
     },
     "execution_count": 35,
     "metadata": {},
     "output_type": "execute_result"
    }
   ],
   "source": [
    "alpha"
   ]
  },
  {
   "cell_type": "markdown",
   "metadata": {},
   "source": [
    "Need to compute the cluster volume...\n",
    "\n",
    "$M_{vir} = 4/3 \\pi r^3_{vir} \\rho_c(r<r_{vir}) = 4/3 \\pi r^3_{vir} \\Delta_c \\rho_c$\n",
    "\n",
    "if we let $\\Delta_c = 200$ then \n",
    "\n",
    "$M_{200} = 4/3 \\pi r^3_{200} 200 \\rho_c$ with $\\rho_c = \\frac{3H(z)^2}{8\\pi G}$\n",
    "\n",
    "or just $M_{200} = V_{200}200\\rho_c$\n",
    "\n",
    "Don't forget that $H(z) = H_0E(z)$"
   ]
  },
  {
   "cell_type": "code",
   "execution_count": 48,
   "metadata": {},
   "outputs": [],
   "source": [
    "def rho_crit(z, cosmo):\n",
    "    # convert G into better units:\n",
    "    G = const.G.to(u.km**2 * u.Mpc/(u.M_sun * u.s**2))\n",
    "    return 3 / (8 * np.pi * G) * cosmo.H0**2 * cosmo.efunc(z)**2 # Mpc^3\n",
    "\n",
    "# So now we are going to calculate the volumes as a function of z\n",
    "\n",
    "M200 = 1e15 * u.solMass\n",
    "V200 = M200/ (200 * rho_crit(z, cosmo))"
   ]
  },
  {
   "cell_type": "code",
   "execution_count": 49,
   "metadata": {},
   "outputs": [
    {
     "data": {
      "text/latex": [
       "$24.135203 \\; \\mathrm{Mpc^{3}}$"
      ],
      "text/plain": [
       "<Quantity 24.13520299 Mpc3>"
      ]
     },
     "execution_count": 49,
     "metadata": {},
     "output_type": "execute_result"
    }
   ],
   "source": [
    "V200"
   ]
  },
  {
   "cell_type": "markdown",
   "metadata": {},
   "source": [
    "The Schechter Function:\n",
    "\n",
    "For Luminosity:\n",
    "\n",
    "$\\Phi(L) = \\phi^\\star \\frac{L}{L_\\star}^\\alpha e^{-\\frac{L}{L_\\star}}$\n",
    "\n",
    "For Magnitudes:\n",
    "\n",
    "$\\Phi(M) = \\phi^\\star\\frac{2}{5}log(10) (10^{\\frac{2}{5}(M_\\star - M)})^{\\alpha+1} e^{-10^{\\frac{2}{5}(M_\\star - M)}}$\n",
    "\n"
   ]
  },
  {
   "cell_type": "code",
   "execution_count": 38,
   "metadata": {
    "scrolled": true
   },
   "outputs": [],
   "source": [
    "def schechterL(luminosity, phiStar, alpha, LStar): \n",
    "    \"\"\"Schechter luminosity function.\"\"\" \n",
    "    LOverLStar = (luminosity/LStar) \n",
    "    return (phiStar/LStar) * LOverLStar**alpha * np.exp(- LOverLStar) \n",
    "\n",
    "def schechterM(magnitude, phiStar, alpha, MStar): \n",
    "    \"\"\"Schechter luminosity function by magnitudes.\"\"\" \n",
    "    MStarMinM = 0.4 * (MStar - magnitude) \n",
    "    try:\n",
    "        return (0.4 * np.log(10) * phiStar * 10.0**(MStarMinM * (alpha + 1.)) * np.exp(-10.**MStarMinM))\n",
    "    except OverflowError:\n",
    "        return 0.0"
   ]
  },
  {
   "cell_type": "code",
   "execution_count": 39,
   "metadata": {},
   "outputs": [],
   "source": [
    "M200 = 10 # 10^14 Msun\n",
    "Mpiv = 6 # 10^14\n",
    "zpiv = 0.6\n",
    "\n",
    "alpha = -0.96 * (M200 / Mpiv)**0.01 * ((1 + z)/ (1 + zpiv))**-0.94\n",
    "Phi = 1.68 * (M200 / Mpiv)**0.09 * ((1 + z)/ (1 + zpiv))**0.09 * cosmo.efunc(z)**2\n",
    "fr = 0.62 * (M200 / Mpiv)**0.08 * ((1 + z)/ (1 + zpiv))** -0.80"
   ]
  },
  {
   "cell_type": "code",
   "execution_count": 51,
   "metadata": {},
   "outputs": [],
   "source": [
    "M_star = -20.44 + 5 * np.log10(0.7) # abs mag.\n",
    "M_star = -21.946521706412092 # abs mag @ z= 0.4\n",
    "M_star_sub = M_star - 2.5 * np.log10(0.4)\n",
    "M_star_big = M_star - 2.5 * np.log(100)\n",
    "#M_star = 20.071802735723015 # app mag @ z= 0.4\n",
    "y, err = quad(schechterM, M_star_big, -18.01828907152557, args=(phi_star, alpha, M_star))"
   ]
  },
  {
   "cell_type": "code",
   "execution_count": 52,
   "metadata": {},
   "outputs": [
    {
     "data": {
      "text/plain": [
       "208.04202985039478"
      ]
     },
     "execution_count": 52,
     "metadata": {},
     "output_type": "execute_result"
    }
   ],
   "source": [
    "(y * V200.value + 1) * fr"
   ]
  },
  {
   "cell_type": "code",
   "execution_count": 41,
   "metadata": {},
   "outputs": [
    {
     "data": {
      "text/plain": [
       "array([1.68618364, 1.70303894, 1.72021516, 1.73771604, 1.75554533,\n",
       "       1.77370677, 1.7922041 , 1.81104106, 1.83022139, 1.84974883,\n",
       "       1.86962711, 1.88985998, 1.91045117, 1.9314044 , 1.95272342,\n",
       "       1.97441196, 1.99647375, 2.01891253, 2.04173203, 2.06493598,\n",
       "       2.08852811, 2.11251216, 2.13689187, 2.16167095, 2.18685316,\n",
       "       2.21244221, 2.23844186, 2.26485582, 2.29168783, 2.31894164,\n",
       "       2.34662098, 2.37472958, 2.40327118, 2.43224952, 2.46166833,\n",
       "       2.49153137, 2.52184236, 2.55260505, 2.58382319, 2.6155005 ,\n",
       "       2.64764075, 2.68024766, 2.713325  , 2.7468765 , 2.78090591,\n",
       "       2.81541698, 2.85041346, 2.88589911, 2.92187766, 2.95835289,\n",
       "       2.99532853, 3.03280835, 3.0707961 , 3.10929555, 3.14831044,\n",
       "       3.18784454, 3.2279016 , 3.26848541, 3.3095997 , 3.35124826,\n",
       "       3.39343485, 3.43616323, 3.47943717, 3.52326044, 3.56763682,\n",
       "       3.61257008, 3.65806399, 3.70412233, 3.75074886, 3.79794738,\n",
       "       3.84572166, 3.89407548, 3.94301262, 3.99253687, 4.042652  ,\n",
       "       4.09336182, 4.14467009, 4.19658062, 4.24909719, 4.3022236 ,\n",
       "       4.35596363, 4.41032108, 4.46529975, 4.52090343, 4.57713593,\n",
       "       4.63400103, 4.69150255, 4.74964428, 4.80843003, 4.86786361,\n",
       "       4.92794882, 4.98868946, 5.05008936, 5.11215231, 5.17488214,\n",
       "       5.23828265, 5.30235766, 5.36711099, 5.43254645, 5.49866787,\n",
       "       5.56547906, 5.63298385, 5.70118606, 5.77008952, 5.83969804,\n",
       "       5.91001546, 5.98104562, 6.05279233, 6.12525942, 6.19845075,\n",
       "       6.27237013, 6.3470214 , 6.4224084 , 6.49853498, 6.57540496,\n",
       "       6.65302219, 6.73139052, 6.81051378, 6.89039583, 6.97104051,\n",
       "       7.05245167, 7.13463315, 7.21758881, 7.30132251, 7.38583809,\n",
       "       7.47113941, 7.55723033, 7.6441147 , 7.73179638, 7.82027924,\n",
       "       7.90956714, 7.99966393, 8.09057349, 8.18229968, 8.27484636,\n",
       "       8.36821741, 8.46241669, 8.55744808, 8.65331545, 8.75002267,\n",
       "       8.84757361, 8.94597216, 9.0452222 , 9.14532759, 9.24629222,\n",
       "       9.34811998, 9.45081474, 9.55438039, 9.65882082, 9.76413991])"
      ]
     },
     "execution_count": 41,
     "metadata": {},
     "output_type": "execute_result"
    }
   ],
   "source": [
    "Phi"
   ]
  },
  {
   "cell_type": "code",
   "execution_count": 42,
   "metadata": {},
   "outputs": [
    {
     "data": {
      "text/plain": [
       "array([ 3.6       ,  3.63273137,  3.66611754,  3.70016499,  3.73488021,\n",
       "        3.77026968,  3.8063399 ,  3.84309735,  3.88054852,  3.9186999 ,\n",
       "        3.95755798,  3.99712924,  4.03742017,  4.07843727,  4.12018701,\n",
       "        4.16267589,  4.2059104 ,  4.24989702,  4.29464224,  4.34015255,\n",
       "        4.38643445,  4.43349441,  4.48133893,  4.5299745 ,  4.5794076 ,\n",
       "        4.62964473,  4.68069237,  4.73255702,  4.78524515,  4.83876327,\n",
       "        4.89311787,  4.94831542,  5.00436242,  5.06126536,  5.11903074,\n",
       "        5.17766503,  5.23717473,  5.29756634,  5.35884633,  5.4210212 ,\n",
       "        5.48409745,  5.54808155,  5.61298   ,  5.6787993 ,  5.74554593,\n",
       "        5.81322637,  5.88184714,  5.9514147 ,  6.02193556,  6.09341621,\n",
       "        6.16586313,  6.23928282,  6.31368177,  6.38906646,  6.4654434 ,\n",
       "        6.54281907,  6.62119996,  6.70059257,  6.78100338,  6.8624389 ,\n",
       "        6.9449056 ,  7.02840998,  7.11295854,  7.19855776,  7.28521414,\n",
       "        7.37293417,  7.46172433,  7.55159114,  7.64254106,  7.73458061,\n",
       "        7.82771627,  7.92195453,  8.01730188,  8.11376482,  8.21134985,\n",
       "        8.31006345,  8.40991211,  8.51090233,  8.61304061,  8.71633343,\n",
       "        8.82078729,  8.92640868,  9.0332041 ,  9.14118003,  9.25034298,\n",
       "        9.36069943,  9.47225588,  9.58501883,  9.69899476,  9.81419017,\n",
       "        9.93061155, 10.04826541, 10.16715822, 10.28729649, 10.40868672,\n",
       "       10.53133538, 10.65524899, 10.78043403, 10.90689699, 11.03464438,\n",
       "       11.16368269, 11.29401841, 11.42565803, 11.55860806, 11.69287498,\n",
       "       11.82846529, 11.96538549, 12.10364207, 12.24324153, 12.38419036,\n",
       "       12.52649505, 12.67016211, 12.81519803, 12.9616093 , 13.10940242,\n",
       "       13.25858389, 13.40916019, 13.56113784, 13.71452331, 13.86932312,\n",
       "       14.02554375, 14.1831917 , 14.34227347, 14.50279555, 14.66476444,\n",
       "       14.82818664, 14.99306864, 15.15941694, 15.32723804, 15.49653843,\n",
       "       15.66732461, 15.83960307, 16.01338032, 16.18866286, 16.36545717,\n",
       "       16.54376975, 16.72360711, 16.90497573, 17.08788213, 17.27233279,\n",
       "       17.45833421, 17.64589289, 17.83501532, 18.02570802, 18.21797746,\n",
       "       18.41183016, 18.60727261, 18.8043113 , 19.00295274, 19.20320343])"
      ]
     },
     "execution_count": 42,
     "metadata": {},
     "output_type": "execute_result"
    }
   ],
   "source": [
    "phi_star"
   ]
  },
  {
   "cell_type": "code",
   "execution_count": 13,
   "metadata": {},
   "outputs": [
    {
     "data": {
      "text/plain": [
       "0.2"
      ]
     },
     "execution_count": 13,
     "metadata": {},
     "output_type": "execute_result"
    }
   ],
   "source": [
    "1/5"
   ]
  },
  {
   "cell_type": "markdown",
   "metadata": {},
   "source": [
    "Here is the stuff from the c++ code."
   ]
  },
  {
   "cell_type": "code",
   "execution_count": 60,
   "metadata": {},
   "outputs": [],
   "source": [
    "def dAintegrand2(y, alpha, mstar):\n",
    "    #val = y**alpha * np.exp(-y)\n",
    "    # using mags instead of luminosity\n",
    "    val = 10.0**(-2 / 5 * (y - mstar) * (alpha + 1.)) * np.exp(-10.** (-2 / 5) * (y - mstar))\n",
    "    return val\n",
    "    \n",
    "def calc_hon(z, mlimit, mstar):\n",
    "    M200 = 10 # 10^14 Msun\n",
    "    Mpiv = 6 # 10^14\n",
    "    zpiv = 0.6\n",
    "    \n",
    "    alpha = -0.96 * (M200 / Mpiv)**0.01 * ((1 + z)/ (1 + zpiv))**-0.94\n",
    "    Phi = 1.68 * (M200 / Mpiv)**0.09 * ((1 + z)/ (1 + zpiv))**0.09 * cosmo.efunc(z)**2\n",
    "    fr = 0.62 * (M200 / Mpiv)**0.08 * ((1 + z)/ (1 + zpiv))** -0.80\n",
    "    \n",
    "    \n",
    "    R200 = M200 * 4301.8644383/ (cosmo.H0.value**2 * cosmo.efunc(z)**2)\n",
    "    R200 = R200**(1 / 3)\n",
    "    \n",
    "    # Calculate factors\n",
    "    Vol = 4 / 3 * np.pi * R200**3 # This gives basically the same number as my calculation above.\n",
    "    # Using Mags Instead of Luminosity\n",
    "    NN = -0.4 * np.log(10) * Vol * Phi * quad(dAintegrand2, 0.0, mlimit, args=(alpha, mstar))[0]\n",
    "    print(NN)\n",
    "    return (NN + 1) * fr"
   ]
  },
  {
   "cell_type": "code",
   "execution_count": 95,
   "metadata": {},
   "outputs": [
    {
     "name": "stdout",
     "output_type": "stream",
     "text": [
      "140.48553340043802\n"
     ]
    },
    {
     "data": {
      "text/plain": [
       "101.68225839692074"
      ]
     },
     "execution_count": 95,
     "metadata": {},
     "output_type": "execute_result"
    }
   ],
   "source": [
    "calc_hon(z, -21, M_star)"
   ]
  },
  {
   "cell_type": "code",
   "execution_count": 53,
   "metadata": {},
   "outputs": [
    {
     "data": {
      "text/plain": [
       "numpy.float64"
      ]
     },
     "execution_count": 53,
     "metadata": {},
     "output_type": "execute_result"
    }
   ],
   "source": [
    "type(np.log(10))"
   ]
  },
  {
   "cell_type": "code",
   "execution_count": 38,
   "metadata": {},
   "outputs": [
    {
     "data": {
      "text/plain": [
       "1.523360401525354"
      ]
     },
     "execution_count": 38,
     "metadata": {},
     "output_type": "execute_result"
    }
   ],
   "source": [
    "cosmo.efunc(z)**2"
   ]
  },
  {
   "cell_type": "code",
   "execution_count": 80,
   "metadata": {},
   "outputs": [],
   "source": [
    "from scipy import special"
   ]
  },
  {
   "cell_type": "code",
   "execution_count": 97,
   "metadata": {},
   "outputs": [
    {
     "data": {
      "text/latex": [
       "$89.241346 \\; \\mathrm{Mpc^{3}}$"
      ],
      "text/plain": [
       "<Quantity 89.24134572 Mpc3>"
      ]
     },
     "execution_count": 97,
     "metadata": {},
     "output_type": "execute_result"
    }
   ],
   "source": [
    "phi_star * special.gammainc(alpha + 1, 3) * V200 * fr"
   ]
  },
  {
   "cell_type": "code",
   "execution_count": 82,
   "metadata": {},
   "outputs": [
    {
     "data": {
      "text/plain": [
       "-1.093961783729938"
      ]
     },
     "execution_count": 82,
     "metadata": {},
     "output_type": "execute_result"
    }
   ],
   "source": [
    "alpha"
   ]
  },
  {
   "cell_type": "code",
   "execution_count": null,
   "metadata": {},
   "outputs": [],
   "source": []
  }
 ],
 "metadata": {
  "kernelspec": {
   "display_name": "Python 3",
   "language": "python",
   "name": "python3"
  },
  "language_info": {
   "codemirror_mode": {
    "name": "ipython",
    "version": 3
   },
   "file_extension": ".py",
   "mimetype": "text/x-python",
   "name": "python",
   "nbconvert_exporter": "python",
   "pygments_lexer": "ipython3",
   "version": "3.6.7"
  }
 },
 "nbformat": 4,
 "nbformat_minor": 2
}
