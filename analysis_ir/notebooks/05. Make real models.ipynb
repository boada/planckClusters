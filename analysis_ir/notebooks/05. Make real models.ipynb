{
 "cells": [
  {
   "cell_type": "code",
   "execution_count": 1,
   "metadata": {},
   "outputs": [],
   "source": [
    "%matplotlib inline\n",
    "#%matplotlib widget\n",
    "from astropy.cosmology import LambdaCDM\n",
    "import numpy as np\n",
    "import matplotlib.pyplot as plt\n",
    "from astropy import constants as const\n",
    "import astropy.units as u\n",
    "from scipy.integrate import quad\n",
    "import ezgal # BC03 model maker\n",
    "import os"
   ]
  },
  {
   "cell_type": "markdown",
   "metadata": {},
   "source": [
    "# Setup Cosmology"
   ]
  },
  {
   "cell_type": "code",
   "execution_count": 2,
   "metadata": {},
   "outputs": [],
   "source": [
    "cosmo = LambdaCDM(H0=70, Om0=0.3, Ode0=0.7, Tcmb0=2.725)"
   ]
  },
  {
   "cell_type": "markdown",
   "metadata": {},
   "source": [
    "# Create Stellar Population"
   ]
  },
  {
   "cell_type": "code",
   "execution_count": 3,
   "metadata": {},
   "outputs": [
    {
     "name": "stdout",
     "output_type": "stream",
     "text": [
      "/home/boada/.local/lib/python3.6/site-packages/ezgal/data/models/bc03_ssp_z_0.02_salp.model\n"
     ]
    },
    {
     "name": "stderr",
     "output_type": "stream",
     "text": [
      "/home/boada/.local/lib/python3.6/site-packages/scipy/integrate/quadrature.py:358: RuntimeWarning: divide by zero encountered in true_divide\n",
      "  h0divh1 = h0 / h1\n",
      "/home/boada/.local/lib/python3.6/site-packages/scipy/integrate/quadrature.py:360: RuntimeWarning: divide by zero encountered in true_divide\n",
      "  y[slice1]*hsum*hsum/hprod +\n",
      "/home/boada/.local/lib/python3.6/site-packages/scipy/integrate/quadrature.py:361: RuntimeWarning: invalid value encountered in add\n",
      "  y[slice2]*(2-h0divh1))\n"
     ]
    }
   ],
   "source": [
    "# check to make sure we have defined the bpz filter path\n",
    "if not os.getenv('EZGAL_FILTERS'):\n",
    "    os.environ['EZGAL_FILTERS'] = (f'{os.environ[\"HOME\"]}/Projects/planckClusters/MOSAICpipe/bpz-1.99.3/FILTER/')\n",
    "\n",
    "model = ezgal.model('bc03_ssp_z_0.02_salp.model')\n",
    "model = model.make_exponential(1)\n",
    "model.set_cosmology(Om=cosmo.Om0, Ol=cosmo.Ode0, h=cosmo.h, w=cosmo.w(0))\n",
    "                                   \n",
    "model.add_filter('g_MOSAICII.res', name='g')\n",
    "model.add_filter('r_MOSAICII.res', name='r')\n",
    "model.add_filter('i_MOSAICII.res', name='i')\n",
    "model.add_filter('z_MOSAICII.res', name='z')\n",
    "model.add_filter('K_KittPeak.res', name='K')\n",
    "\n",
    "# Blanton 2003 Normalization\n",
    "Mr_star = -20.44 + 5 * np.log10(cosmo.h) # abs mag.\n",
    "# set the normalization\n",
    "model.set_normalization('sloan_r', 0.1, Mr_star, vega=False)                                   "
   ]
  },
  {
   "cell_type": "markdown",
   "metadata": {},
   "source": [
    "# Calculate a few things to get going."
   ]
  },
  {
   "cell_type": "code",
   "execution_count": 4,
   "metadata": {},
   "outputs": [],
   "source": [
    "# desired formation redshift\n",
    "zf = 6.0\n",
    "# fetch an array of redshifts out to given formation redshift\n",
    "zs = model.get_zs(zf)\n",
    " \n",
    "# Calculate some cosmological stuff\n",
    "DM = cosmo.distmod(zs)\n",
    "dlum = cosmo.luminosity_distance(zs)"
   ]
  },
  {
   "cell_type": "markdown",
   "metadata": {},
   "source": [
    "# Define the functions that we'll need\n",
    "\n",
    "Need to compute the cluster volume...\n",
    "\n",
    "$M_{vir} = 4/3 \\pi r^3_{vir} \\rho_c(r<r_{vir}) = 4/3 \\pi r^3_{vir} \\Delta_c \\rho_c$\n",
    "\n",
    "if we let $\\Delta_c = 200$ then \n",
    "\n",
    "$M_{200} = 4/3 \\pi r^3_{200} 200 \\rho_c$ with $\\rho_c = \\frac{3H(z)^2}{8\\pi G}$\n",
    "\n",
    "or just $M_{200} = V_{200}200\\rho_c$. So we'll make a function to calculate $\\rho_c$. And we'll make use of the astropy units package to do all the unit analysis for us.\n",
    "\n",
    "Don't forget that $H(z) = H_0E(z)$ \n",
    "\n",
    "## We also need to integrate the Schechter luminosity functions..\n",
    "\n",
    "The Schechter Function:\n",
    "\n",
    "For Luminosity:\n",
    "\n",
    "$\\Phi(L) = \\phi^\\star \\frac{L}{L_\\star}^\\alpha e^{-\\frac{L}{L_\\star}}$\n",
    "\n",
    "For Magnitudes:\n",
    "\n",
    "$\\Phi(M) = \\phi^\\star\\frac{2}{5}log(10) (10^{\\frac{2}{5}(M_\\star - M)})^{\\alpha+1} e^{-10^{\\frac{2}{5}(M_\\star - M)}}$\n",
    "\n",
    "\n"
   ]
  },
  {
   "cell_type": "code",
   "execution_count": 5,
   "metadata": {},
   "outputs": [],
   "source": [
    "def rho_crit(z, cosmo):\n",
    "    # convert G into better units:\n",
    "    G = const.G.to(u.km**2 * u.Mpc/(u.M_sun * u.s**2))\n",
    "    return 3 / (8 * np.pi * G) * cosmo.H0**2 * cosmo.efunc(z)**2 # Mpc^3\n",
    "\n",
    "def schechterL(luminosity, phiStar, alpha, LStar): \n",
    "    \"\"\"Schechter luminosity function.\"\"\" \n",
    "    LOverLStar = (luminosity/LStar) \n",
    "    return (phiStar/LStar) * LOverLStar**alpha * np.exp(- LOverLStar) \n",
    "\n",
    "def schechterM(magnitude, phiStar, alpha, MStar): \n",
    "    \"\"\"Schechter luminosity function by magnitudes.\"\"\" \n",
    "    MStarMinM = 0.4 * (MStar - magnitude)\n",
    "    return (0.4 * np.log(10) * phiStar * 10.0**(MStarMinM * (alpha + 1.)) * np.exp(-10.**MStarMinM))"
   ]
  },
  {
   "cell_type": "markdown",
   "metadata": {},
   "source": [
    "# Mass limits from PSZ2"
   ]
  },
  {
   "cell_type": "code",
   "execution_count": 6,
   "metadata": {},
   "outputs": [
    {
     "name": "stderr",
     "output_type": "stream",
     "text": [
      "/home/boada/.local/lib/python3.7/site-packages/pandas/core/generic.py:6586: SettingWithCopyWarning: \n",
      "A value is trying to be set on a copy of a slice from a DataFrame\n",
      "\n",
      "See the caveats in the documentation: http://pandas.pydata.org/pandas-docs/stable/indexing.html#indexing-view-versus-copy\n",
      "  self._update_inplace(new_data)\n"
     ]
    }
   ],
   "source": [
    "from astropy.table import Table\n",
    "from scipy.interpolate import interp1d\n",
    "\n",
    "z1 = 0\n",
    "z2 = 2\n",
    "dz = 0.025\n",
    "\n",
    "# build the mass array\n",
    "zarr = np.arange(z1, z2 + dz, dz)\n",
    "\n",
    "ps2 = Table.read('../../catalogs/PSZ2v1.fits')\n",
    "df2 = ps2.to_pandas()\n",
    "data = df2[['REDSHIFT', 'MSZ']]\n",
    "data['REDSHIFT'].replace(-1, np.nan, inplace=True)\n",
    "\n",
    "# redshift bins\n",
    "zbins = [0, 0.1, 0.2, 0.3, 0.4, 0.5, 0.6, 0.7, 0.8, 3]\n",
    "\n",
    "nMasses = 100\n",
    "big_mass = []\n",
    "for j in range(nMasses):\n",
    "    mass = np.ones_like(zarr) * 1e14\n",
    "    for i in range(len(zbins) - 1):\n",
    "        mask = (zbins[i] <= zarr) & (zarr < zbins[i + 1])\n",
    "        mass[mask] *= float(data.loc[(zbins[i] <= data['REDSHIFT']) & (data['REDSHIFT'] < zbins[i + 1]), 'MSZ'].sample()) * cosmo.h\n",
    "    big_mass.append(mass)\n",
    "\n",
    "mass = np.vstack(big_mass)\n",
    "mass_func = interp1d(zarr, np.median(mass, axis=0))"
   ]
  },
  {
   "cell_type": "markdown",
   "metadata": {},
   "source": [
    "# Start Calculating things"
   ]
  },
  {
   "cell_type": "code",
   "execution_count": 9,
   "metadata": {},
   "outputs": [
    {
     "name": "stderr",
     "output_type": "stream",
     "text": [
      "/home/boada/.local/lib/python3.6/site-packages/ezgal/cosmology.py:185: RuntimeWarning: divide by zero encountered in log10\n",
      "  return 5. * num.log10(self.Dl(z) / self.pc / 10)\n"
     ]
    }
   ],
   "source": [
    "# So now we are going to calculate the volumes as a function of z\n",
    "\n",
    "#M200 = mass_func(zarr) * u.solMass\n",
    "\n",
    "M200 = 1e15 * u.solMass\n",
    "V200 = M200/ (200 * rho_crit(zs, cosmo))\n",
    "\n",
    "# Calculate the M_star values\n",
    "Mstar = model.get_absolute_mags(zf, filters='i', zs=zs)\n",
    "\n",
    "# calculate the abs mag of our limiting magnitude as a function of z\n",
    "mlim = 23.5\n",
    "#Mlim = Mstar - 2.5 * np.log10(0.4)\n",
    "Mlim = mlim - cosmo.distmod(zs).value - model.get_kcorrects(zf, filters='i', zs=zs)\n",
    "\n",
    "# Here are the Schechter function stuff from Liu et al.\n",
    "phi_star = 3.6 * cosmo.efunc(zs)**2\n",
    "alpha = -1.05 * (1 + zs)**(-2/3)\n",
    "fr = 0.8*(1 + zs)**(-1/2)\n",
    "\n",
    "#alpha = np.ones_like(alpha) * -1\n",
    "#Mpiv = 6e14 * u.solMass\n",
    "#zpiv = 0.6\n",
    "\n",
    "#alpha = -0.96 * (M200 / Mpiv)**0.01 * ((1 + zs)/ (1 + zpiv))**-0.94\n",
    "#phi_star = 1.68 * (M200 / Mpiv)**0.09 * ((1 + zs)/ (1 + zpiv))**0.09 * cosmo.efunc(zs)**2\n",
    "#fr = 0.62 * (M200 / Mpiv)**0.08 * ((1 + zs)/ (1 + zpiv))** -0.80\n"
   ]
  },
  {
   "cell_type": "code",
   "execution_count": 8,
   "metadata": {},
   "outputs": [
    {
     "name": "stderr",
     "output_type": "stream",
     "text": [
      "/home/boada/.local/lib/python3.7/site-packages/ipykernel_launcher.py:14: RuntimeWarning: overflow encountered in double_scalars\n",
      "  \n",
      "/home/boada/.local/lib/python3.7/site-packages/ipykernel_launcher.py:14: RuntimeWarning: invalid value encountered in double_scalars\n",
      "  \n",
      "/home/boada/.local/lib/python3.7/site-packages/ipykernel_launcher.py:7: IntegrationWarning: The occurrence of roundoff error is detected, which prevents \n",
      "  the requested tolerance from being achieved.  The error may be \n",
      "  underestimated.\n",
      "  import sys\n"
     ]
    }
   ],
   "source": [
    "LF = []\n",
    "for phi, a, M_star, M_lim in zip(phi_star, alpha, Mstar, Mlim):\n",
    "    if M_lim < M_star - 2.5 * np.log10(0.4):\n",
    "        Mlimit = M_lim\n",
    "    else:\n",
    "        Mlimit = M_star - 2.5 * np.log10(0.4)\n",
    "    y, err = quad(schechterM, -np.inf, Mlimit, args=(phi, a, M_star))\n",
    "    #print(M_star - M_lim, y)\n",
    "    LF.append(y)"
   ]
  },
  {
   "cell_type": "code",
   "execution_count": 9,
   "metadata": {},
   "outputs": [
    {
     "data": {
      "image/png": "[encoded data removed]",
      "text/plain": [
       "<Figure size 432x288 with 1 Axes>"
      ]
     },
     "metadata": {
      "needs_background": "light"
     },
     "output_type": "display_data"
    }
   ],
   "source": [
    "plt.figure()\n",
    "plt.plot(zs, (LF * V200.value + 1) * fr)\n",
    "ax = plt.gca()\n",
    "ax.set_yticks(np.arange(0, 75, 10))\n",
    "plt.xlim(0.1, 5)\n",
    "plt.ylim(0, 80)\n",
    "plt.xlabel('redshift')\n",
    "plt.ylabel('N (r < r200)')\n",
    "plt.grid()"
   ]
  },
  {
   "cell_type": "code",
   "execution_count": 10,
   "metadata": {},
   "outputs": [
    {
     "data": {
      "text/plain": [
       "<matplotlib.legend.Legend at 0x7f2386c744e0>"
      ]
     },
     "execution_count": 10,
     "metadata": {},
     "output_type": "execute_result"
    },
    {
     "data": {
      "image/png": "[encoded data removed]",
      "text/plain": [
       "<Figure size 432x288 with 1 Axes>"
      ]
     },
     "metadata": {
      "needs_background": "light"
     },
     "output_type": "display_data"
    }
   ],
   "source": [
    "# calculate the abs mag of our limiting magnitude as a function of z\n",
    "mlim = 23.5\n",
    "#Mlim = model.get_absolute_mags(zf, filters='i', zs=zs) - 2.5 * np.log10(0.4)\n",
    "Mlim = mlim - cosmo.distmod(zs).value - model.get_kcorrects(zf, filters='i', zs=zs)\n",
    "plt.figure()\n",
    "plt.plot(zs, model.get_absolute_mags(zf, filters='i', zs=zs), label='Lstar')\n",
    "plt.plot(zs, Mlim, label='Mlimit')\n",
    "plt.plot(zs, model.get_absolute_mags(zf, filters='i', zs=zs) - 2.5 * np.log10(0.4), label='0.4Lstar')\n",
    "plt.grid()\n",
    "plt.xlabel('redshift')\n",
    "plt.ylabel('abs Mag')\n",
    "plt.legend()"
   ]
  },
  {
   "cell_type": "code",
   "execution_count": 11,
   "metadata": {},
   "outputs": [
    {
     "data": {
      "text/plain": [
       "array([ -8.1658134 ,  -9.68495902, -10.57712692, -11.21590893,\n",
       "       -11.71317736, -12.12290307, -12.47160961, -12.77411805,\n",
       "       -13.04159075, -13.28498939, -13.50334666, -13.7055737 ,\n",
       "       -13.89190301, -14.06351244, -14.22556981, -14.37699888,\n",
       "       -14.5193843 , -14.65682555, -14.78502903, -14.9069075 ,\n",
       "       -15.45391931, -15.91286253, -16.29646466, -16.62851574,\n",
       "       -16.93172572, -17.20374221, -17.45777789, -17.69273943,\n",
       "       -17.91992918, -18.12987769, -18.32865681, -18.51828907,\n",
       "       -18.69976994, -18.86891746, -19.03642649, -19.19397521,\n",
       "       -19.34179258, -19.4892439 , -19.63047416, -19.77424126,\n",
       "       -19.91108518, -20.03864248, -20.16951124, -20.29877324,\n",
       "       -20.42751841, -20.55921112, -20.69559866, -20.83252436,\n",
       "       -20.96665018, -21.09965252, -21.22894866, -21.35956163,\n",
       "       -21.47795764, -21.59165994, -21.69933654, -21.80210694,\n",
       "       -21.9075376 , -22.00622275, -22.10366806, -22.20027099,\n",
       "       -22.29100864, -22.36640173, -22.42845094, -22.4853484 ,\n",
       "       -22.54070856, -22.59598623, -22.64154941, -22.68710784,\n",
       "       -22.73522341, -22.77181238, -22.80550814, -22.84101844,\n",
       "       -22.87541961, -22.90532171, -22.93749864, -22.97262474,\n",
       "       -23.0040184 , -23.02902426, -23.05480989, -23.07906287,\n",
       "       -23.10292495, -23.11624035, -23.13175075, -23.15057037,\n",
       "       -23.17036084, -23.19080186, -23.2056804 , -23.22006052,\n",
       "       -23.23454612, -23.24620634, -23.25854034, -23.26844157,\n",
       "       -23.27908949, -23.28711613, -23.29326093, -23.29470352,\n",
       "       -23.2845006 , -23.27694714, -23.26086677, -23.23991968,\n",
       "       -23.22471461, -23.20682851, -23.20254638, -23.20022458,\n",
       "       -23.20164199, -23.18859621, -23.18097258, -23.16851309,\n",
       "       -23.16386204, -23.16584999, -23.16810358, -23.17140962,\n",
       "       -23.16695835, -23.16165199, -23.15524835, -23.1457666 ,\n",
       "       -23.13445458, -23.11387449, -23.08996102, -23.06516598,\n",
       "       -23.03316445, -23.00871584, -23.00112175, -22.99962852,\n",
       "       -22.9954707 , -22.97909149, -22.94948598, -22.92706284,\n",
       "       -22.89819333, -22.86368165, -22.81628033, -22.74636801,\n",
       "       -22.66224601, -22.52436841, -22.2811153 ])"
      ]
     },
     "execution_count": 11,
     "metadata": {},
     "output_type": "execute_result"
    }
   ],
   "source": [
    "Mlim"
   ]
  },
  {
   "cell_type": "code",
   "execution_count": 12,
   "metadata": {},
   "outputs": [
    {
     "data": {
      "text/plain": [
       "array([-20.57008079, -20.57597325, -20.58179183, -20.5875379 ,\n",
       "       -20.59315221, -20.59866339, -20.60410763, -20.60948613,\n",
       "       -20.61491286, -20.62028775, -20.62559825, -20.63085243,\n",
       "       -20.6361888 , -20.64146161, -20.64667197, -20.65183576,\n",
       "       -20.65708687, -20.66227606, -20.66740441, -20.67247647,\n",
       "       -20.69788217, -20.72276832, -20.74717636, -20.77114779,\n",
       "       -20.79472324, -20.81792192, -20.84079074, -20.86338788,\n",
       "       -20.88574247, -20.90787483, -20.92980046, -20.95167168,\n",
       "       -20.97363203, -20.99554516, -21.01738616, -21.03918731,\n",
       "       -21.06161016, -21.08403246, -21.10630224, -21.12975616,\n",
       "       -21.1531245 , -21.17677915, -21.20122247, -21.2250567 ,\n",
       "       -21.24963478, -21.27334722, -21.29763075, -21.32132178,\n",
       "       -21.34592426, -21.36980908, -21.39509567, -21.4191294 ,\n",
       "       -21.44521967, -21.47012112, -21.49621011, -21.52236259,\n",
       "       -21.54762003, -21.57405979, -21.59920148, -21.62422419,\n",
       "       -21.64926965, -21.67312985, -21.69756533, -21.72200031,\n",
       "       -21.74530574, -21.76907223, -21.79332112, -21.8164666 ,\n",
       "       -21.83881586, -21.86186659, -21.88390463, -21.9049975 ,\n",
       "       -21.9257851 , -21.94639376, -21.9661547 , -21.98512058,\n",
       "       -22.00429553, -22.02391864, -22.04276457, -22.06087984,\n",
       "       -22.07834128, -22.0978269 , -22.11655585, -22.13457271,\n",
       "       -22.15191844, -22.1688609 , -22.18704657, -22.20456059,\n",
       "       -22.22144057, -22.23891681, -22.25590052, -22.27281362,\n",
       "       -22.28943702, -22.30560051, -22.321552  , -22.33696369,\n",
       "       -22.39411387, -22.44588903, -22.49375884, -22.5380438 ,\n",
       "       -22.57862433, -22.61550049, -22.64884919, -22.67654611,\n",
       "       -22.70098555, -22.71283139, -22.72302176, -22.73026786,\n",
       "       -22.73867243, -22.74798509, -22.75503744, -22.76085581,\n",
       "       -22.7634457 , -22.76420858, -22.76318766, -22.7588282 ,\n",
       "       -22.75295011, -22.74506269, -22.73484423, -22.72297422,\n",
       "       -22.70898055, -22.69149613, -22.66881132, -22.64174969,\n",
       "       -22.61066417, -22.57631767, -22.53927451, -22.4985054 ,\n",
       "       -22.44854935, -22.38778485, -22.31630871, -22.22399321,\n",
       "       -22.09978338, -21.90739033, -21.53852064])"
      ]
     },
     "execution_count": 12,
     "metadata": {},
     "output_type": "execute_result"
    }
   ],
   "source": [
    "Mstar - 2.5 * np.log10(0.4) # 0.4L* magnitudes"
   ]
  },
  {
   "cell_type": "code",
   "execution_count": 13,
   "metadata": {},
   "outputs": [
    {
     "data": {
      "text/plain": [
       "array([2.56524068, 2.57496239, 2.58480829, 2.5947786 , 2.60487352,\n",
       "       2.61509328, 2.62543812, 2.63590825, 2.64650394, 2.65722542,\n",
       "       2.66807296, 2.6790468 , 2.69014722, 2.7013745 , 2.7127289 ,\n",
       "       2.72421071, 2.73582023, 2.74755773, 2.75942353, 2.77141792,\n",
       "       2.83332971, 2.89850436, 2.96698453, 3.03881509, 3.11404292,\n",
       "       3.19271665, 3.27488652, 3.36060417, 3.44992249, 3.54289555,\n",
       "       3.6395784 , 3.74002706, 3.84429835, 3.95244988, 4.06453993,\n",
       "       4.18062741, 4.30077181, 4.42503314, 4.55347189, 4.68614897,\n",
       "       4.82312573, 4.96446385, 5.11022536, 5.26047263, 5.41526828,\n",
       "       5.57467524, 5.73875664, 5.90757588, 6.08119656, 6.25968247,\n",
       "       6.4430976 , 6.6315061 , 6.67119425, 6.44094924, 6.23373234,\n",
       "       6.04020869, 5.81921663, 5.62802277, 5.42776437, 5.22280248,\n",
       "       5.04011196, 4.92332275, 4.87332859, 4.84631645, 4.81782225,\n",
       "       4.78861725, 4.81229945, 4.82777386, 4.82171217, 4.88408009,\n",
       "       4.95714151,        nan,        nan,        nan,        nan,\n",
       "              nan,        nan,        nan,        nan,        nan,\n",
       "              nan,        nan,        nan,        nan,        nan,\n",
       "              nan,        nan,        nan,        nan,        nan,\n",
       "              nan,        nan,        nan,        nan,        nan,\n",
       "              nan,        nan,        nan,        nan,        nan,\n",
       "              nan,        nan,        nan,        nan,        nan,\n",
       "              nan,        nan,        nan,        nan,        nan,\n",
       "              nan,        nan,        nan,        nan,        nan,\n",
       "              nan,        nan,        nan,        nan,        nan,\n",
       "              nan,        nan,        nan,        nan,        nan,\n",
       "              nan,        nan,        nan,        nan,        nan,\n",
       "              nan,        nan,        nan,        nan,        nan])"
      ]
     },
     "execution_count": 13,
     "metadata": {},
     "output_type": "execute_result"
    }
   ],
   "source": [
    "np.array(LF) # LF integration output"
   ]
  },
  {
   "cell_type": "code",
   "execution_count": 14,
   "metadata": {},
   "outputs": [
    {
     "data": {
      "text/plain": [
       "array([-1.04651452, -1.04305782, -1.03962952, -1.03622926, -1.03285666,\n",
       "       -1.02951137, -1.02619304, -1.02290132, -1.01963587, -1.01639636,\n",
       "       -1.01318245, -1.00999383, -1.00683018, -1.00369119, -1.00057656,\n",
       "       -0.99748597, -0.99441914, -0.99137577, -0.98835558, -0.98535829,\n",
       "       -0.97070578, -0.95658611, -0.94296894, -0.92982625, -0.91713213,\n",
       "       -0.90486257, -0.89299531, -0.88150964, -0.8703863 , -0.85960735,\n",
       "       -0.84915603, -0.83901671, -0.82917473, -0.81961638, -0.81032882,\n",
       "       -0.80129997, -0.79251849, -0.78397371, -0.77565559, -0.76755466,\n",
       "       -0.75966198, -0.75196911, -0.7444681 , -0.73715138, -0.73001183,\n",
       "       -0.72304268, -0.71623751, -0.70959023, -0.70309507, -0.69674653,\n",
       "       -0.69053938, -0.68446866, -0.67852962, -0.67271776, -0.66702877,\n",
       "       -0.66145855, -0.65600318, -0.65065893, -0.6454222 , -0.64028958,\n",
       "       -0.6352578 , -0.63032373, -0.62548436, -0.62073683, -0.61607836,\n",
       "       -0.61150633, -0.60701818, -0.60261149, -0.59828392, -0.59403321,\n",
       "       -0.58985721, -0.58575383, -0.58172108, -0.57775704, -0.57385984,\n",
       "       -0.5700277 , -0.5662589 , -0.56255179, -0.55890476, -0.55531627,\n",
       "       -0.55178484, -0.54830901, -0.54488741, -0.5415187 , -0.53820157,\n",
       "       -0.53493478, -0.53171712, -0.5285474 , -0.52542451, -0.52234735,\n",
       "       -0.51931484, -0.51632597, -0.51337973, -0.51047517, -0.50761134,\n",
       "       -0.50478735, -0.49387249, -0.48352913, -0.47371086, -0.46437627,\n",
       "       -0.45548835, -0.44701384, -0.43892281, -0.43118823, -0.42378563,\n",
       "       -0.41669278, -0.40988944, -0.40335716, -0.39707907, -0.3910397 ,\n",
       "       -0.38522485, -0.37962145, -0.37421747, -0.36900179, -0.36396413,\n",
       "       -0.35909495, -0.35438542, -0.34982733, -0.34541303, -0.3411354 ,\n",
       "       -0.3369878 , -0.332964  , -0.32905821, -0.32526498, -0.32157921,\n",
       "       -0.3179961 , -0.31451117, -0.31112017, -0.30781913, -0.30460427,\n",
       "       -0.30147205, -0.29841914, -0.29544236, -0.29253872, -0.28970539])"
      ]
     },
     "execution_count": 14,
     "metadata": {},
     "output_type": "execute_result"
    }
   ],
   "source": [
    "alpha"
   ]
  },
  {
   "cell_type": "code",
   "execution_count": 15,
   "metadata": {},
   "outputs": [
    {
     "data": {
      "text/plain": [
       "array([  3.61628424,   3.63273137,   3.6493422 ,   3.66611754,\n",
       "         3.6830582 ,   3.70016499,   3.71743872,   3.73488021,\n",
       "         3.75249026,   3.77026968,   3.78821929,   3.8063399 ,\n",
       "         3.82463232,   3.84309735,   3.86173582,   3.88054852,\n",
       "         3.89953628,   3.9186999 ,   3.9380402 ,   3.95755798,\n",
       "         4.05783755,   4.16267589,   4.2721744 ,   4.38643445,\n",
       "         4.50555743,   4.62964473,   4.75879774,   4.89311787,\n",
       "         5.03270649,   5.17766503,   5.32809488,   5.48409745,\n",
       "         5.64577414,   5.81322637,   5.98655557,   6.16586313,\n",
       "         6.35125049,   6.54281907,   6.7406703 ,   6.9449056 ,\n",
       "         7.15562641,   7.37293417,   7.5969303 ,   7.82771627,\n",
       "         8.0653935 ,   8.31006345,   8.56182756,   8.82078729,\n",
       "         9.08704409,   9.36069943,   9.64185476,   9.93061155,\n",
       "        10.22707127,  10.53133538,  10.84350536,  11.16368269,\n",
       "        11.49196884,  11.82846529,  12.17327353,  12.52649505,\n",
       "        12.88823134,  13.25858389,  13.63765419,  14.02554375,\n",
       "        14.42235406,  14.82818664,  15.24314298,  15.66732461,\n",
       "        16.10083302,  16.54376975,  16.9962363 ,  17.45833421,\n",
       "        17.93016498,  18.41183016,  18.90343127,  19.40506985,\n",
       "        19.91684743,  20.43886555,  20.97122575,  21.51402959,\n",
       "        22.06737859,  22.63137433,  23.20611834,  23.7917122 ,\n",
       "        24.38825744,  24.99585565,  25.61460838,  26.2446172 ,\n",
       "        26.88598368,  27.53880939,  28.20319592,  28.87924484,\n",
       "        29.56705774,  30.26673619,  30.97838179,  31.70209613,\n",
       "        34.71967278,  37.93847726,  41.36501277,  45.00578325,\n",
       "        48.86729337,  52.95604855,  57.27855492,  61.84131938,\n",
       "        66.65084954,  71.71365376,  77.03624114,  82.6251215 ,\n",
       "        88.48680541,  94.62780417, 101.05462982, 107.77379514,\n",
       "       114.79181364, 122.11519958, 129.75046792, 137.7041344 ,\n",
       "       145.98271548, 154.59272835, 163.54069094, 172.83312193,\n",
       "       182.4765407 , 192.47746742, 202.84242295, 213.57792891,\n",
       "       224.69050764, 236.18668225, 248.07297655, 260.35591509,\n",
       "       273.04202319, 286.13782687, 299.6498529 , 313.58462879,\n",
       "       327.94868279, 342.74854386, 357.99074174])"
      ]
     },
     "execution_count": 15,
     "metadata": {},
     "output_type": "execute_result"
    }
   ],
   "source": [
    "phi_star"
   ]
  },
  {
   "cell_type": "code",
   "execution_count": 16,
   "metadata": {},
   "outputs": [
    {
     "data": {
      "text/plain": [
       "array([0.79800747, 0.79602975, 0.79406667, 0.79211803, 0.79018368,\n",
       "       0.78826342, 0.7863571 , 0.78446454, 0.78258558, 0.78072006,\n",
       "       0.77886781, 0.77702869, 0.77520253, 0.77338919, 0.77158852,\n",
       "       0.76980036, 0.76802458, 0.76626103, 0.76450957, 0.76277007,\n",
       "       0.75424723, 0.74600385, 0.73802497, 0.73029674, 0.72280632,\n",
       "       0.71554175, 0.70849191, 0.70164642, 0.69499559, 0.68853037,\n",
       "       0.68224229, 0.6761234 , 0.67016625, 0.66436384, 0.65870958,\n",
       "       0.65319726, 0.64782106, 0.64257546, 0.63745526, 0.63245553,\n",
       "       0.62757163, 0.62279916, 0.61813393, 0.61357199, 0.60910959,\n",
       "       0.60474316, 0.6004693 , 0.59628479, 0.59218657, 0.5881717 ,\n",
       "       0.58423739, 0.580381  , 0.57659998, 0.5728919 , 0.56925445,\n",
       "       0.56568542, 0.5621827 , 0.55874424, 0.55536811, 0.55205245,\n",
       "       0.54879547, 0.54559547, 0.5424508 , 0.53935989, 0.53632122,\n",
       "       0.53333333, 0.53039484, 0.52750438, 0.52466067, 0.52186246,\n",
       "       0.51910855, 0.51639778, 0.51372904, 0.51110125, 0.50851338,\n",
       "       0.50596443, 0.50345342, 0.50097943, 0.49854156, 0.49613894,\n",
       "       0.49377072, 0.49143609, 0.48913427, 0.4868645 , 0.48462603,\n",
       "       0.48241815, 0.48024018, 0.47809144, 0.47597129, 0.4738791 ,\n",
       "       0.47181426, 0.46977618, 0.46776428, 0.46577801, 0.46381683,\n",
       "       0.46188022, 0.45436947, 0.4472136 , 0.44038551, 0.43386092,\n",
       "       0.42761799, 0.42163702, 0.4159002 , 0.41039134, 0.40509575,\n",
       "       0.4       , 0.39509184, 0.39036003, 0.38579426, 0.38138504,\n",
       "       0.37712362, 0.37300192, 0.36901248, 0.36514837, 0.36140316,\n",
       "       0.35777088, 0.35424595, 0.35082321, 0.34749779, 0.34426519,\n",
       "       0.34112115, 0.3380617 , 0.33508313, 0.33218192, 0.32935479,\n",
       "       0.32659863, 0.32391053, 0.32128773, 0.31872763, 0.31622777,\n",
       "       0.31378582, 0.31139958, 0.30906696, 0.306786  , 0.3045548 ])"
      ]
     },
     "execution_count": 16,
     "metadata": {},
     "output_type": "execute_result"
    }
   ],
   "source": [
    "fr # red fraction"
   ]
  },
  {
   "cell_type": "code",
   "execution_count": 17,
   "metadata": {},
   "outputs": [
    {
     "data": {
      "text/plain": [
       "array([5.000e-03, 1.000e-02, 1.500e-02, 2.000e-02, 2.500e-02, 3.000e-02,\n",
       "       3.500e-02, 4.000e-02, 4.500e-02, 5.000e-02, 5.500e-02, 6.000e-02,\n",
       "       6.500e-02, 7.000e-02, 7.500e-02, 8.000e-02, 8.500e-02, 9.000e-02,\n",
       "       9.500e-02, 1.000e-01, 1.250e-01, 1.500e-01, 1.750e-01, 2.000e-01,\n",
       "       2.250e-01, 2.500e-01, 2.750e-01, 3.000e-01, 3.250e-01, 3.500e-01,\n",
       "       3.750e-01, 4.000e-01, 4.250e-01, 4.500e-01, 4.750e-01, 5.000e-01,\n",
       "       5.250e-01, 5.500e-01, 5.750e-01, 6.000e-01, 6.250e-01, 6.500e-01,\n",
       "       6.750e-01, 7.000e-01, 7.250e-01, 7.500e-01, 7.750e-01, 8.000e-01,\n",
       "       8.250e-01, 8.500e-01, 8.750e-01, 9.000e-01, 9.250e-01, 9.500e-01,\n",
       "       9.750e-01, 1.000e+00, 1.025e+00, 1.050e+00, 1.075e+00, 1.100e+00,\n",
       "       1.125e+00, 1.150e+00, 1.175e+00, 1.200e+00, 1.225e+00, 1.250e+00,\n",
       "       1.275e+00, 1.300e+00, 1.325e+00, 1.350e+00, 1.375e+00, 1.400e+00,\n",
       "       1.425e+00, 1.450e+00, 1.475e+00, 1.500e+00, 1.525e+00, 1.550e+00,\n",
       "       1.575e+00, 1.600e+00, 1.625e+00, 1.650e+00, 1.675e+00, 1.700e+00,\n",
       "       1.725e+00, 1.750e+00, 1.775e+00, 1.800e+00, 1.825e+00, 1.850e+00,\n",
       "       1.875e+00, 1.900e+00, 1.925e+00, 1.950e+00, 1.975e+00, 2.000e+00,\n",
       "       2.100e+00, 2.200e+00, 2.300e+00, 2.400e+00, 2.500e+00, 2.600e+00,\n",
       "       2.700e+00, 2.800e+00, 2.900e+00, 3.000e+00, 3.100e+00, 3.200e+00,\n",
       "       3.300e+00, 3.400e+00, 3.500e+00, 3.600e+00, 3.700e+00, 3.800e+00,\n",
       "       3.900e+00, 4.000e+00, 4.100e+00, 4.200e+00, 4.300e+00, 4.400e+00,\n",
       "       4.500e+00, 4.600e+00, 4.700e+00, 4.800e+00, 4.900e+00, 5.000e+00,\n",
       "       5.100e+00, 5.200e+00, 5.300e+00, 5.400e+00, 5.500e+00, 5.600e+00,\n",
       "       5.700e+00, 5.800e+00, 5.900e+00])"
      ]
     },
     "execution_count": 17,
     "metadata": {},
     "output_type": "execute_result"
    }
   ],
   "source": [
    "zs # redshift array"
   ]
  },
  {
   "cell_type": "code",
   "execution_count": 18,
   "metadata": {},
   "outputs": [
    {
     "data": {
      "text/plain": [
       "array([36.6010513 , 36.43534065, 36.26949674, 36.10353559, 35.93747314,\n",
       "       35.77132519, 35.60510745, 35.43883545, 35.27252465, 35.10619034,\n",
       "       34.93984769, 34.7735117 , 34.60719727, 34.44091912, 34.27469183,\n",
       "       34.10852982, 33.94244737, 33.77645859, 33.61057743, 33.44481766,\n",
       "       32.61831051, 31.79680776, 30.98183566, 30.17480523, 29.37700988,\n",
       "       28.58962465, 27.81370678, 27.05019758, 26.29992534, 25.56360913,\n",
       "       24.84186338, 24.13520299, 23.44404891, 22.76873401, 22.10950915,\n",
       "       21.46654933, 20.83995982, 20.22978224, 19.63600046, 19.05854632,\n",
       "       18.49730512, 17.95212084, 17.42280102, 16.90912145, 16.41083043,\n",
       "       15.92765277, 15.45929349, 15.0054412 , 14.56577119, 14.1399482 ,\n",
       "       13.727629  , 13.32846465, 12.94210254, 12.5681882 , 12.20636691,\n",
       "       11.85628513, 11.51759171, 11.189939  , 10.87298373, 10.56638784,\n",
       "       10.26981915,  9.98295189,  9.70546717,  9.43705338,  9.17740644,\n",
       "        8.92623004,  8.68323581,  8.4481434 ,  8.22068056,  8.00058312,\n",
       "        7.78759501,  7.58146817,  7.38196247,  7.18884564,  7.0018931 ,\n",
       "        6.82088784,  6.64562027,  6.47588804,  6.31149589,  6.15225542,\n",
       "        5.99798497,  5.84850938,  5.70365983,  5.56327363,  5.42719402,\n",
       "        5.29527002,  5.16735619,  5.04331247,  4.92300399,  4.80630092,\n",
       "        4.69307824,  4.58321559,  4.4765971 ,  4.37311127,  4.27265071,\n",
       "        4.1751121 ,  3.8122423 ,  3.4888012 ,  3.1998009 ,  2.94095104,\n",
       "        2.70855609,  2.49942752,  2.31080908,  2.14031341,  1.98586824,\n",
       "        1.84567092,  1.71814984,  1.60193174,  1.49581403,  1.39874117,\n",
       "        1.30978467,  1.22812605,  1.1530422 ,  1.08389296,  1.02011043,\n",
       "        0.96118977,  0.90668135,  0.8561839 ,  0.80933867,  0.7658243 ,\n",
       "        0.72535245,  0.6876639 ,  0.65252526,  0.61972604,  0.58907609,\n",
       "        0.56040334,  0.53355189,  0.50838025,  0.48475983,  0.4625736 ,\n",
       "        0.4417149 ,  0.42208639,  0.40359914,  0.38617175,  0.36972969])"
      ]
     },
     "execution_count": 18,
     "metadata": {},
     "output_type": "execute_result"
    }
   ],
   "source": [
    "V200.value # cluster volume"
   ]
  },
  {
   "cell_type": "code",
   "execution_count": 7,
   "metadata": {},
   "outputs": [
    {
     "data": {
      "text/latex": [
       "$[2.732162 \\times 10^{13},~2.744588 \\times 10^{13},~2.7571378 \\times 10^{13},~\\dots,~2.477706 \\times 10^{15},~2.5895214 \\times 10^{15},~2.7046787 \\times 10^{15}] \\; \\mathrm{\\frac{M_{\\odot}}{Mpc^{3}}}$"
      ],
      "text/plain": [
       "<Quantity [2.73216196e+13, 2.74458803e+13, 2.75713779e+13, 2.76981183e+13,\n",
       "           2.78261078e+13, 2.79553524e+13, 2.80858582e+13, 2.82176315e+13,\n",
       "           2.83506783e+13, 2.84850048e+13, 2.86206170e+13, 2.87575212e+13,\n",
       "           2.88957234e+13, 2.90352298e+13, 2.91760464e+13, 2.93181795e+13,\n",
       "           2.94616351e+13, 2.96064194e+13, 2.97525385e+13, 2.98999986e+13,\n",
       "           3.06576271e+13, 3.14496980e+13, 3.22769771e+13, 3.31402305e+13,\n",
       "           3.40402241e+13, 3.49777240e+13, 3.59534962e+13, 3.69683067e+13,\n",
       "           3.80229216e+13, 3.91181071e+13, 4.02546292e+13, 4.14332542e+13,\n",
       "           4.26547481e+13, 4.39198771e+13, 4.52294075e+13, 4.65841056e+13,\n",
       "           4.79847374e+13, 4.94320694e+13, 5.09268678e+13, 5.24698990e+13,\n",
       "           5.40619292e+13, 5.57037249e+13, 5.73960524e+13, 5.91396781e+13,\n",
       "           6.09353685e+13, 6.27838900e+13, 6.46860091e+13, 6.66424923e+13,\n",
       "           6.86541061e+13, 7.07216169e+13, 7.28457915e+13, 7.50273963e+13,\n",
       "           7.72671980e+13, 7.95659632e+13, 8.19244586e+13, 8.43434507e+13,\n",
       "           8.68237063e+13, 8.93659921e+13, 9.19710748e+13, 9.46397212e+13,\n",
       "           9.73726981e+13, 1.00170772e+14, 1.03034710e+14, 1.05965280e+14,\n",
       "           1.08963246e+14, 1.12029378e+14, 1.15164441e+14, 1.18369203e+14,\n",
       "           1.21644430e+14, 1.24990889e+14, 1.28409348e+14, 1.31900574e+14,\n",
       "           1.35465332e+14, 1.39104392e+14, 1.42818519e+14, 1.46608480e+14,\n",
       "           1.50475044e+14, 1.54418976e+14, 1.58441044e+14, 1.62542016e+14,\n",
       "           1.66722659e+14, 1.70983739e+14, 1.75326024e+14, 1.79750281e+14,\n",
       "           1.84257278e+14, 1.88847782e+14, 1.93522560e+14, 1.98282380e+14,\n",
       "           2.03128009e+14, 2.08060214e+14, 2.13079763e+14, 2.18187424e+14,\n",
       "           2.23383963e+14, 2.28670148e+14, 2.34046747e+14, 2.39514527e+14,\n",
       "           2.62312813e+14, 2.86631408e+14, 3.12519445e+14, 3.40026062e+14,\n",
       "           3.69200403e+14, 4.00091618e+14, 4.32748861e+14, 4.67221294e+14,\n",
       "           5.03558082e+14, 5.41808397e+14, 5.82021416e+14, 6.24246322e+14,\n",
       "           6.68532304e+14, 7.14928555e+14, 7.63484275e+14, 8.14248669e+14,\n",
       "           8.67270948e+14, 9.22600328e+14, 9.80286031e+14, 1.04037728e+15,\n",
       "           1.10292332e+15, 1.16797338e+15, 1.23557670e+15, 1.30578254e+15,\n",
       "           1.37864014e+15, 1.45419878e+15, 1.53250772e+15, 1.61361622e+15,\n",
       "           1.69757358e+15, 1.78442906e+15, 1.87423196e+15, 1.96703157e+15,\n",
       "           2.06287719e+15, 2.16181813e+15, 2.26390370e+15, 2.36918322e+15,\n",
       "           2.47770600e+15, 2.58952137e+15, 2.70467867e+15] solMass / Mpc3>"
      ]
     },
     "execution_count": 7,
     "metadata": {},
     "output_type": "execute_result"
    }
   ],
   "source": [
    "200 * rho_crit(zs, cosmo)"
   ]
  },
  {
   "cell_type": "code",
   "execution_count": 12,
   "metadata": {},
   "outputs": [
    {
     "data": {
      "text/plain": [
       "[<matplotlib.lines.Line2D at 0x7f5d233ef160>]"
      ]
     },
     "execution_count": 12,
     "metadata": {},
     "output_type": "execute_result"
    },
    {
     "data": {
      "image/png": "[encoded data removed]",
      "text/plain": [
       "<Figure size 432x288 with 1 Axes>"
      ]
     },
     "metadata": {
      "needs_background": "light"
     },
     "output_type": "display_data"
    }
   ],
   "source": [
    "plt.plot(zs, (V200/(4/3 * np.pi))**(1/3))"
   ]
  },
  {
   "cell_type": "code",
   "execution_count": null,
   "metadata": {},
   "outputs": [],
   "source": []
  }
 ],
 "metadata": {
  "kernelspec": {
   "display_name": "Python 3",
   "language": "python",
   "name": "python3"
  },
  "language_info": {
   "codemirror_mode": {
    "name": "ipython",
    "version": 3
   },
   "file_extension": ".py",
   "mimetype": "text/x-python",
   "name": "python",
   "nbconvert_exporter": "python",
   "pygments_lexer": "ipython3",
   "version": "3.6.7"
  }
 },
 "nbformat": 4,
 "nbformat_minor": 2
}
