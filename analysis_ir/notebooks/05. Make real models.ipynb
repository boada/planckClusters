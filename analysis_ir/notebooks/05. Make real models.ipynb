{
 "cells": [
  {
   "cell_type": "code",
   "execution_count": 1,
   "metadata": {},
   "outputs": [],
   "source": [
    "#%matplotlib inline\n",
    "%matplotlib widget\n",
    "from astropy.cosmology import LambdaCDM\n",
    "import numpy as np\n",
    "import matplotlib.pyplot as plt\n",
    "from astropy import constants as const\n",
    "import astropy.units as u\n",
    "from scipy.integrate import quad\n",
    "import ezgal # BC03 model maker\n",
    "import os"
   ]
  },
  {
   "cell_type": "markdown",
   "metadata": {},
   "source": [
    "# Setup Cosmology"
   ]
  },
  {
   "cell_type": "code",
   "execution_count": 2,
   "metadata": {},
   "outputs": [],
   "source": [
    "cosmo = LambdaCDM(H0=70, Om0=0.3, Ode0=0.7, Tcmb0=2.725)"
   ]
  },
  {
   "cell_type": "markdown",
   "metadata": {},
   "source": [
    "# Create Stellar Population"
   ]
  },
  {
   "cell_type": "code",
   "execution_count": 3,
   "metadata": {},
   "outputs": [
    {
     "name": "stdout",
     "output_type": "stream",
     "text": [
      "/home/boada/.local/lib/python3.6/site-packages/ezgal/data/models/bc03_ssp_z_0.02_salp.model\n"
     ]
    },
    {
     "name": "stderr",
     "output_type": "stream",
     "text": [
      "/home/boada/.local/lib/python3.6/site-packages/scipy/integrate/quadrature.py:358: RuntimeWarning: divide by zero encountered in true_divide\n",
      "  h0divh1 = h0 / h1\n",
      "/home/boada/.local/lib/python3.6/site-packages/scipy/integrate/quadrature.py:360: RuntimeWarning: divide by zero encountered in true_divide\n",
      "  y[slice1]*hsum*hsum/hprod +\n",
      "/home/boada/.local/lib/python3.6/site-packages/scipy/integrate/quadrature.py:361: RuntimeWarning: invalid value encountered in add\n",
      "  y[slice2]*(2-h0divh1))\n"
     ]
    }
   ],
   "source": [
    "# check to make sure we have defined the bpz filter path\n",
    "if not os.getenv('EZGAL_FILTERS'):\n",
    "    os.environ['EZGAL_FILTERS'] = (f'{os.environ[\"HOME\"]}/Projects/planckClusters/MOSAICpipe/bpz-1.99.3/FILTER/')\n",
    "\n",
    "model = ezgal.model('bc03_ssp_z_0.02_salp.model')\n",
    "model = model.make_exponential(1)\n",
    "model.set_cosmology(Om=cosmo.Om0, Ol=cosmo.Ode0, h=cosmo.h, w=cosmo.w(0))\n",
    "                                   \n",
    "model.add_filter('g_MOSAICII.res', name='g')\n",
    "model.add_filter('r_MOSAICII.res', name='r')\n",
    "model.add_filter('i_MOSAICII.res', name='i')\n",
    "model.add_filter('z_MOSAICII.res', name='z')\n",
    "model.add_filter('K_KittPeak.res', name='K')\n",
    "\n",
    "# Blanton 2003 Normalization\n",
    "Mr_star = -20.44 + 5 * np.log10(cosmo.h) # abs mag.\n",
    "# set the normalization\n",
    "model.set_normalization('sloan_r', 0.1, Mr_star, vega=False)                                   "
   ]
  },
  {
   "cell_type": "markdown",
   "metadata": {},
   "source": [
    "# Calculate a few things to get going."
   ]
  },
  {
   "cell_type": "code",
   "execution_count": 4,
   "metadata": {},
   "outputs": [],
   "source": [
    "# desired formation redshift\n",
    "zf = 6.0\n",
    "# fetch an array of redshifts out to given formation redshift\n",
    "zs = model.get_zs(zf)\n",
    " \n",
    "# Calculate some cosmological stuff\n",
    "DM = cosmo.distmod(zs)\n",
    "dlum = cosmo.luminosity_distance(zs)"
   ]
  },
  {
   "cell_type": "markdown",
   "metadata": {},
   "source": [
    "# Define the functions that we'll need\n",
    "\n",
    "Need to compute the cluster volume...\n",
    "\n",
    "$M_{vir} = 4/3 \\pi r^3_{vir} \\rho_c(r<r_{vir}) = 4/3 \\pi r^3_{vir} \\Delta_c \\rho_c$\n",
    "\n",
    "if we let $\\Delta_c = 200$ then \n",
    "\n",
    "$M_{200} = 4/3 \\pi r^3_{200} 200 \\rho_c$ with $\\rho_c = \\frac{3H(z)^2}{8\\pi G}$\n",
    "\n",
    "or just $M_{200} = V_{200}200\\rho_c$. So we'll make a function to calculate $\\rho_c$. And we'll make use of the astropy units package to do all the unit analysis for us.\n",
    "\n",
    "Don't forget that $H(z) = H_0E(z)$ \n",
    "\n",
    "## We also need to integrate the Schechter luminosity functions..\n",
    "\n",
    "The Schechter Function:\n",
    "\n",
    "For Luminosity:\n",
    "\n",
    "$\\Phi(L) = \\phi^\\star \\frac{L}{L_\\star}^\\alpha e^{-\\frac{L}{L_\\star}}$\n",
    "\n",
    "For Magnitudes:\n",
    "\n",
    "$\\Phi(M) = \\phi^\\star\\frac{2}{5}log(10) (10^{\\frac{2}{5}(M_\\star - M)})^{\\alpha+1} e^{-10^{\\frac{2}{5}(M_\\star - M)}}$\n",
    "\n",
    "\n"
   ]
  },
  {
   "cell_type": "code",
   "execution_count": 37,
   "metadata": {},
   "outputs": [],
   "source": [
    "def rho_crit(z, cosmo):\n",
    "    # convert G into better units:\n",
    "    G = const.G.to(u.km**2 * u.Mpc/(u.M_sun * u.s**2))\n",
    "    return 3 / (8 * np.pi * G) * cosmo.H0**2 * cosmo.efunc(z)**2 # Mpc^3\n",
    "\n",
    "def schechterL(luminosity, phiStar, alpha, LStar): \n",
    "    \"\"\"Schechter luminosity function.\"\"\" \n",
    "    LOverLStar = (luminosity/LStar) \n",
    "    return (phiStar/LStar) * LOverLStar**alpha * np.exp(- LOverLStar) \n",
    "\n",
    "def schechterM(magnitude, phiStar, alpha, MStar): \n",
    "    \"\"\"Schechter luminosity function by magnitudes.\"\"\" \n",
    "    MStarMinM = 0.4 * (MStar - magnitude)\n",
    "    return (0.4 * np.log(10) * phiStar * 10.0**(MStarMinM * (alpha + 1.)) * np.exp(-10.**MStarMinM))"
   ]
  },
  {
   "cell_type": "markdown",
   "metadata": {},
   "source": [
    "# Mass limits from PSZ2"
   ]
  },
  {
   "cell_type": "code",
   "execution_count": 28,
   "metadata": {},
   "outputs": [
    {
     "name": "stderr",
     "output_type": "stream",
     "text": [
      "/home/boada/.local/lib/python3.6/site-packages/pandas/core/generic.py:6586: SettingWithCopyWarning: \n",
      "A value is trying to be set on a copy of a slice from a DataFrame\n",
      "\n",
      "See the caveats in the documentation: http://pandas.pydata.org/pandas-docs/stable/indexing.html#indexing-view-versus-copy\n",
      "  self._update_inplace(new_data)\n"
     ]
    }
   ],
   "source": [
    "from astropy.table import Table\n",
    "from scipy.interpolate import interp1d\n",
    "\n",
    "z1 = 0\n",
    "z2 = 2\n",
    "dz = 0.025\n",
    "\n",
    "# build the mass array\n",
    "zarr = np.arange(z1, z2 + dz, dz)\n",
    "\n",
    "ps2 = Table.read('../../catalogs/PSZ2v1.fits')\n",
    "df2 = ps2.to_pandas()\n",
    "data = df2[['REDSHIFT', 'MSZ']]\n",
    "data['REDSHIFT'].replace(-1, np.nan, inplace=True)\n",
    "\n",
    "# redshift bins\n",
    "zbins = [0, 0.1, 0.2, 0.3, 0.4, 0.5, 0.6, 0.7, 0.8, 3]\n",
    "\n",
    "nMasses = 100\n",
    "big_mass = []\n",
    "for j in range(nMasses):\n",
    "    mass = np.ones_like(zarr) * 1e14\n",
    "    for i in range(len(zbins) - 1):\n",
    "        mask = (zbins[i] <= zarr) & (zarr < zbins[i + 1])\n",
    "        mass[mask] *= float(data.loc[(zbins[i] <= data['REDSHIFT']) & (data['REDSHIFT'] < zbins[i + 1]), 'MSZ'].sample()) * cosmo.h\n",
    "    big_mass.append(mass)\n",
    "\n",
    "mass = np.vstack(big_mass)\n",
    "mass_func = interp1d(zarr, np.median(mass, axis=0))"
   ]
  },
  {
   "cell_type": "markdown",
   "metadata": {},
   "source": [
    "# Start Calculating things"
   ]
  },
  {
   "cell_type": "code",
   "execution_count": 44,
   "metadata": {},
   "outputs": [],
   "source": [
    "# So now we are going to calculate the volumes as a function of z\n",
    "\n",
    "#M200 = mass_func(zarr) * u.solMass\n",
    "\n",
    "M200 = 1e15 * u.solMass\n",
    "V200 = M200/ (200 * rho_crit(zs, cosmo))\n",
    "\n",
    "# Calculate the M_star values\n",
    "Mstar = model.get_absolute_mags(zf, filters='i', zs=zs)\n",
    "\n",
    "# calculate the abs mag of our limiting magnitude as a function of z\n",
    "mlim = 23.5\n",
    "#Mlim = Mstar - 2.5 * np.log10(0.4)\n",
    "Mlim = mlim - cosmo.distmod(zs).value - model.get_kcorrects(zf, filters='i', zs=zs)\n",
    "\n",
    "# Here are the Schechter function stuff from Liu et al.\n",
    "phi_star = 3.6 * cosmo.efunc(zs)**2\n",
    "alpha = -1.05 * (1 + zs)**(-2/3)\n",
    "fr = 0.8*(1 + zs)**(-1/2)\n",
    "\n",
    "#alpha = np.ones_like(alpha) * -1\n",
    "#Mpiv = 6e14 * u.solMass\n",
    "#zpiv = 0.6\n",
    "\n",
    "#alpha = -0.96 * (M200 / Mpiv)**0.01 * ((1 + zs)/ (1 + zpiv))**-0.94\n",
    "#phi_star = 1.68 * (M200 / Mpiv)**0.09 * ((1 + zs)/ (1 + zpiv))**0.09 * cosmo.efunc(zs)**2\n",
    "#fr = 0.62 * (M200 / Mpiv)**0.08 * ((1 + zs)/ (1 + zpiv))** -0.80\n"
   ]
  },
  {
   "cell_type": "code",
   "execution_count": 45,
   "metadata": {},
   "outputs": [
    {
     "name": "stderr",
     "output_type": "stream",
     "text": [
      "/home/boada/.local/lib/python3.6/site-packages/ipykernel_launcher.py:14: RuntimeWarning: overflow encountered in double_scalars\n",
      "  \n",
      "/home/boada/.local/lib/python3.6/site-packages/ipykernel_launcher.py:14: RuntimeWarning: invalid value encountered in double_scalars\n",
      "  \n",
      "/home/boada/.local/lib/python3.6/site-packages/ipykernel_launcher.py:7: IntegrationWarning: The occurrence of roundoff error is detected, which prevents \n",
      "  the requested tolerance from being achieved.  The error may be \n",
      "  underestimated.\n",
      "  import sys\n"
     ]
    }
   ],
   "source": [
    "LF = []\n",
    "for phi, a, M_star, M_lim in zip(phi_star, alpha, Mstar, Mlim):\n",
    "    if M_lim < M_star - 2.5 * np.log10(0.4):\n",
    "        Mlimit = M_lim\n",
    "    else:\n",
    "        Mlimit = M_star - 2.5 * np.log10(0.4)\n",
    "    y, err = quad(schechterM, -np.inf, Mlimit, args=(phi, a, M_star))\n",
    "    #print(M_star - M_lim, y)\n",
    "    LF.append(y)"
   ]
  },
  {
   "cell_type": "code",
   "execution_count": 46,
   "metadata": {},
   "outputs": [
    {
     "data": {
      "application/vnd.jupyter.widget-view+json": {
       "model_id": "84548326f94249c0ae1961396d2d62b5",
       "version_major": 2,
       "version_minor": 0
      },
      "text/plain": [
       "FigureCanvasNbAgg()"
      ]
     },
     "metadata": {},
     "output_type": "display_data"
    }
   ],
   "source": [
    "plt.figure()\n",
    "plt.plot(zs, (LF * V200.value + 1) * fr)\n",
    "ax = plt.gca()\n",
    "ax.set_yticks(np.arange(0, 75, 10))\n",
    "plt.xlim(0.1, 5)\n",
    "plt.ylim(0, 80)\n",
    "plt.xlabel('redshift')\n",
    "plt.ylabel('N (r < r200)')\n",
    "plt.grid()"
   ]
  },
  {
   "cell_type": "code",
   "execution_count": 18,
   "metadata": {},
   "outputs": [
    {
     "data": {
      "application/vnd.jupyter.widget-view+json": {
       "model_id": "441e524cd1e748bca8f3e02501098e1a",
       "version_major": 2,
       "version_minor": 0
      },
      "text/plain": [
       "FigureCanvasNbAgg()"
      ]
     },
     "metadata": {},
     "output_type": "display_data"
    }
   ],
   "source": [
    "# calculate the abs mag of our limiting magnitude as a function of z\n",
    "mlim = 23.5\n",
    "#Mlim = model.get_absolute_mags(zf, filters='i', zs=zs) - 2.5 * np.log10(0.4)\n",
    "Mlim = mlim - cosmo.distmod(zs).value - model.get_kcorrects(zf, filters='i', zs=zs)\n",
    "plt.figure()\n",
    "plt.plot(zs, model.get_absolute_mags(zf, filters='i', zs=zs))\n",
    "plt.plot(zs, Mlim)\n",
    "plt.plot(zs, model.get_absolute_mags(zf, filters='i', zs=zs) - 2.5 * np.log10(0.4))\n",
    "plt.grid()"
   ]
  },
  {
   "cell_type": "code",
   "execution_count": 13,
   "metadata": {},
   "outputs": [
    {
     "data": {
      "text/plain": [
       "array([ -8.1658134 ,  -9.68495902, -10.57712692, -11.21590893,\n",
       "       -11.71317736, -12.12290307, -12.47160961, -12.77411805,\n",
       "       -13.04159075, -13.28498939, -13.50334666, -13.7055737 ,\n",
       "       -13.89190301, -14.06351244, -14.22556981, -14.37699888,\n",
       "       -14.5193843 , -14.65682555, -14.78502903, -14.9069075 ,\n",
       "       -15.45391931, -15.91286253, -16.29646466, -16.62851574,\n",
       "       -16.93172572, -17.20374221, -17.45777789, -17.69273943,\n",
       "       -17.91992918, -18.12987769, -18.32865681, -18.51828907,\n",
       "       -18.69976994, -18.86891746, -19.03642649, -19.19397521,\n",
       "       -19.34179258, -19.4892439 , -19.63047416, -19.77424126,\n",
       "       -19.91108518, -20.03864248, -20.16951124, -20.29877324,\n",
       "       -20.42751841, -20.55921112, -20.69559866, -20.83252436,\n",
       "       -20.96665018, -21.09965252, -21.22894866, -21.35956163,\n",
       "       -21.47795764, -21.59165994, -21.69933654, -21.80210694,\n",
       "       -21.9075376 , -22.00622275, -22.10366806, -22.20027099,\n",
       "       -22.29100864, -22.36640173, -22.42845094, -22.4853484 ,\n",
       "       -22.54070856, -22.59598623, -22.64154941, -22.68710784,\n",
       "       -22.73522341, -22.77181238, -22.80550814, -22.84101844,\n",
       "       -22.87541961, -22.90532171, -22.93749864, -22.97262474,\n",
       "       -23.0040184 , -23.02902426, -23.05480989, -23.07906287,\n",
       "       -23.10292495, -23.11624035, -23.13175075, -23.15057037,\n",
       "       -23.17036084, -23.19080186, -23.2056804 , -23.22006052,\n",
       "       -23.23454612, -23.24620634, -23.25854034, -23.26844157,\n",
       "       -23.27908949, -23.28711613, -23.29326093, -23.29470352,\n",
       "       -23.2845006 , -23.27694714, -23.26086677, -23.23991968,\n",
       "       -23.22471461, -23.20682851, -23.20254638, -23.20022458,\n",
       "       -23.20164199, -23.18859621, -23.18097258, -23.16851309,\n",
       "       -23.16386204, -23.16584999, -23.16810358, -23.17140962,\n",
       "       -23.16695835, -23.16165199, -23.15524835, -23.1457666 ,\n",
       "       -23.13445458, -23.11387449, -23.08996102, -23.06516598,\n",
       "       -23.03316445, -23.00871584, -23.00112175, -22.99962852,\n",
       "       -22.9954707 , -22.97909149, -22.94948598, -22.92706284,\n",
       "       -22.89819333, -22.86368165, -22.81628033, -22.74636801,\n",
       "       -22.66224601, -22.52436841, -22.2811153 ])"
      ]
     },
     "execution_count": 13,
     "metadata": {},
     "output_type": "execute_result"
    }
   ],
   "source": [
    "Mlim"
   ]
  },
  {
   "cell_type": "code",
   "execution_count": 12,
   "metadata": {},
   "outputs": [
    {
     "data": {
      "text/plain": [
       "array([-20.57008079, -20.57597325, -20.58179183, -20.5875379 ,\n",
       "       -20.59315221, -20.59866339, -20.60410763, -20.60948613,\n",
       "       -20.61491286, -20.62028775, -20.62559825, -20.63085243,\n",
       "       -20.6361888 , -20.64146161, -20.64667197, -20.65183576,\n",
       "       -20.65708687, -20.66227606, -20.66740441, -20.67247647,\n",
       "       -20.69788217, -20.72276832, -20.74717636, -20.77114779,\n",
       "       -20.79472324, -20.81792192, -20.84079074, -20.86338788,\n",
       "       -20.88574247, -20.90787483, -20.92980046, -20.95167168,\n",
       "       -20.97363203, -20.99554516, -21.01738616, -21.03918731,\n",
       "       -21.06161016, -21.08403246, -21.10630224, -21.12975616,\n",
       "       -21.1531245 , -21.17677915, -21.20122247, -21.2250567 ,\n",
       "       -21.24963478, -21.27334722, -21.29763075, -21.32132178,\n",
       "       -21.34592426, -21.36980908, -21.39509567, -21.4191294 ,\n",
       "       -21.44521967, -21.47012112, -21.49621011, -21.52236259,\n",
       "       -21.54762003, -21.57405979, -21.59920148, -21.62422419,\n",
       "       -21.64926965, -21.67312985, -21.69756533, -21.72200031,\n",
       "       -21.74530574, -21.76907223, -21.79332112, -21.8164666 ,\n",
       "       -21.83881586, -21.86186659, -21.88390463, -21.9049975 ,\n",
       "       -21.9257851 , -21.94639376, -21.9661547 , -21.98512058,\n",
       "       -22.00429553, -22.02391864, -22.04276457, -22.06087984,\n",
       "       -22.07834128, -22.0978269 , -22.11655585, -22.13457271,\n",
       "       -22.15191844, -22.1688609 , -22.18704657, -22.20456059,\n",
       "       -22.22144057, -22.23891681, -22.25590052, -22.27281362,\n",
       "       -22.28943702, -22.30560051, -22.321552  , -22.33696369,\n",
       "       -22.39411387, -22.44588903, -22.49375884, -22.5380438 ,\n",
       "       -22.57862433, -22.61550049, -22.64884919, -22.67654611,\n",
       "       -22.70098555, -22.71283139, -22.72302176, -22.73026786,\n",
       "       -22.73867243, -22.74798509, -22.75503744, -22.76085581,\n",
       "       -22.7634457 , -22.76420858, -22.76318766, -22.7588282 ,\n",
       "       -22.75295011, -22.74506269, -22.73484423, -22.72297422,\n",
       "       -22.70898055, -22.69149613, -22.66881132, -22.64174969,\n",
       "       -22.61066417, -22.57631767, -22.53927451, -22.4985054 ,\n",
       "       -22.44854935, -22.38778485, -22.31630871, -22.22399321,\n",
       "       -22.09978338, -21.90739033, -21.53852064])"
      ]
     },
     "execution_count": 12,
     "metadata": {},
     "output_type": "execute_result"
    }
   ],
   "source": [
    "Mstar - 2.5 * np.log10(0.4)"
   ]
  },
  {
   "cell_type": "code",
   "execution_count": 13,
   "metadata": {},
   "outputs": [
    {
     "data": {
      "text/plain": [
       "array([1.36011857, 1.36379449, 1.36755501, 1.37139974, 1.37532829,\n",
       "       1.37934029, 1.38343539, 1.38761326, 1.39187359, 1.39621607,\n",
       "       1.40064043, 1.40514639, 1.4097337 , 1.41440212, 1.41915142,\n",
       "       1.4239814 , 1.42889184, 1.43388257, 1.43895341, 1.44410419,\n",
       "       1.47105233, 1.49998075, 1.53088041, 1.56374745, 1.59858256,\n",
       "       1.63539041, 1.67417914, 1.71495994, 1.75774672, 1.80255577,\n",
       "       1.8494055 , 1.89831621, 1.94930989, 2.00241005, 2.05764154,\n",
       "       2.11503043, 2.17460392, 2.23639018, 2.30041828, 2.36671813,\n",
       "       2.43532036, 2.50625632, 2.57955794, 2.65525776, 2.73338882,\n",
       "       2.81398464, 2.8970792 , 2.98270688, 3.07090245, 3.16170102,\n",
       "       3.25513804, 3.35124925, 3.36398578, 3.22797693, 3.107751  ,\n",
       "       2.99752963, 2.87481824, 2.7701184 , 2.66237721, 2.55378918,\n",
       "       2.45820885, 2.39777082, 2.3723643 , 2.35913165, 2.34543234,\n",
       "       2.33164145, 2.34507622, 2.3544848 , 2.35308712, 2.38667178,\n",
       "       2.42581826, 2.45644373, 2.48928701, 2.53582618, 2.57234314,\n",
       "       2.59610808, 2.63269557, 2.69301868, 2.7485685 , 2.80761294,\n",
       "       2.86634236, 2.97415302, 3.07336954, 3.15869994,        nan,\n",
       "              nan,        nan,        nan,        nan,        nan,\n",
       "              nan,        nan,        nan,        nan,        nan,\n",
       "              nan,        nan,        nan,        nan,        nan,\n",
       "              nan,        nan,        nan,        nan,        nan,\n",
       "              nan,        nan,        nan,        nan,        nan,\n",
       "              nan,        nan,        nan,        nan,        nan,\n",
       "              nan,        nan,        nan,        nan,        nan,\n",
       "              nan,        nan,        nan,        nan,        nan,\n",
       "              nan,        nan,        nan,        nan,        nan,\n",
       "              nan,        nan,        nan,        nan,        nan])"
      ]
     },
     "execution_count": 13,
     "metadata": {},
     "output_type": "execute_result"
    }
   ],
   "source": [
    "np.array(LF)"
   ]
  },
  {
   "cell_type": "code",
   "execution_count": 14,
   "metadata": {},
   "outputs": [
    {
     "data": {
      "text/latex": [
       "$[-1.4939168,~-1.4869639,~-1.4800774,~\\dots,~-0.25110317,~-0.2476305,~-0.2442555] \\; \\mathrm{}$"
      ],
      "text/plain": [
       "<Quantity [-1.49391678, -1.48696386, -1.48007739, -1.47325642, -1.46650001,\n",
       "           -1.45980724, -1.4531772 , -1.44660901, -1.44010179, -1.4336547 ,\n",
       "           -1.42726689, -1.42093755, -1.41466586, -1.40845103, -1.4022923 ,\n",
       "           -1.39618888, -1.39014003, -1.38414503, -1.37820313, -1.37231364,\n",
       "           -1.34362827, -1.31615347, -1.28981347, -1.26453872, -1.24026526,\n",
       "           -1.21693419, -1.19449113, -1.17288587, -1.15207189, -1.13200609,\n",
       "           -1.11264845, -1.09396178, -1.07591146, -1.0584652 , -1.04159289,\n",
       "           -1.02526639, -1.00945939, -0.99414723, -0.97930682, -0.96491647,\n",
       "           -0.95095582, -0.93740571, -0.92424813, -0.91146609, -0.89904359,\n",
       "           -0.88696552, -0.87521761, -0.86378638, -0.85265905, -0.84182357,\n",
       "           -0.83126847, -0.82098291, -0.8109566 , -0.80117976, -0.7916431 ,\n",
       "           -0.78233779, -0.77325543, -0.76438803, -0.75572796, -0.74726797,\n",
       "           -0.73900114, -0.73092085, -0.72302081, -0.71529499, -0.70773763,\n",
       "           -0.70034323, -0.69310652, -0.68602247, -0.67908623, -0.67229319,\n",
       "           -0.66563892, -0.65911916, -0.65272984, -0.64646704, -0.640327  ,\n",
       "           -0.63430611, -0.62840091, -0.62260805, -0.61692434, -0.61134668,\n",
       "           -0.6058721 , -0.60049775, -0.59522086, -0.59003879, -0.58494898,\n",
       "           -0.57994896, -0.57503635, -0.57020885, -0.56546426, -0.56080043,\n",
       "           -0.55621529, -0.55170686, -0.54727321, -0.54291246, -0.53862282,\n",
       "           -0.53440255, -0.51818223, -0.50294619, -0.48860668, -0.4750861 ,\n",
       "           -0.46231559, -0.45023386, -0.43878612, -0.42792329, -0.41760123,\n",
       "           -0.40778018, -0.39842417, -0.38950064, -0.38097998, -0.37283527,\n",
       "           -0.36504192, -0.35757747, -0.35042132, -0.34355458, -0.33695988,\n",
       "           -0.3306212 , -0.32452379, -0.31865399, -0.31299917, -0.30754762,\n",
       "           -0.30228847, -0.2972116 , -0.29230762, -0.28756776, -0.28298383,\n",
       "           -0.27854818, -0.27425368, -0.27009361, -0.26606172, -0.26215209,\n",
       "           -0.25835921, -0.25467787, -0.25110317, -0.2476305 , -0.2442555 ]>"
      ]
     },
     "execution_count": 14,
     "metadata": {},
     "output_type": "execute_result"
    }
   ],
   "source": [
    "alpha"
   ]
  },
  {
   "cell_type": "code",
   "execution_count": 15,
   "metadata": {},
   "outputs": [
    {
     "ename": "NameError",
     "evalue": "name 'Phi' is not defined",
     "output_type": "error",
     "traceback": [
      "\u001b[0;31m---------------------------------------------------------------------------\u001b[0m",
      "\u001b[0;31mNameError\u001b[0m                                 Traceback (most recent call last)",
      "\u001b[0;32m<ipython-input-15-68b2c2651eff>\u001b[0m in \u001b[0;36m<module>\u001b[0;34m\u001b[0m\n\u001b[0;32m----> 1\u001b[0;31m \u001b[0mPhi\u001b[0m\u001b[0;34m\u001b[0m\u001b[0;34m\u001b[0m\u001b[0m\n\u001b[0m",
      "\u001b[0;31mNameError\u001b[0m: name 'Phi' is not defined"
     ]
    }
   ],
   "source": [
    "Phi"
   ]
  },
  {
   "cell_type": "code",
   "execution_count": null,
   "metadata": {},
   "outputs": [],
   "source": [
    "np.exp(-1)"
   ]
  },
  {
   "cell_type": "code",
   "execution_count": null,
   "metadata": {},
   "outputs": [],
   "source": []
  }
 ],
 "metadata": {
  "kernelspec": {
   "display_name": "Python 3",
   "language": "python",
   "name": "python3"
  },
  "language_info": {
   "codemirror_mode": {
    "name": "ipython",
    "version": 3
   },
   "file_extension": ".py",
   "mimetype": "text/x-python",
   "name": "python",
   "nbconvert_exporter": "python",
   "pygments_lexer": "ipython3",
   "version": "3.6.7"
  }
 },
 "nbformat": 4,
 "nbformat_minor": 2
}
