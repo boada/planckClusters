{
 "cells": [
  {
   "cell_type": "code",
   "execution_count": 2,
   "metadata": {},
   "outputs": [],
   "source": [
    "%matplotlib inline\n",
    "#%matplotlib widget\n",
    "from astropy.cosmology import LambdaCDM\n",
    "import numpy as np\n",
    "import matplotlib.pyplot as plt\n",
    "from astropy import constants as const\n",
    "import astropy.units as u\n",
    "from scipy.integrate import quad\n",
    "import ezgal # BC03 model maker\n",
    "import os"
   ]
  },
  {
   "cell_type": "markdown",
   "metadata": {},
   "source": [
    "# Setup Cosmology"
   ]
  },
  {
   "cell_type": "code",
   "execution_count": 3,
   "metadata": {},
   "outputs": [],
   "source": [
    "cosmo = LambdaCDM(H0=70, Om0=0.3, Ode0=0.7, Tcmb0=2.725)"
   ]
  },
  {
   "cell_type": "markdown",
   "metadata": {},
   "source": [
    "# Create Stellar Population"
   ]
  },
  {
   "cell_type": "code",
   "execution_count": 4,
   "metadata": {},
   "outputs": [
    {
     "name": "stdout",
     "output_type": "stream",
     "text": [
      "/home/boada/.local/lib/python3.7/site-packages/ezgal/data/models/bc03_ssp_z_0.02_salp.model\n"
     ]
    },
    {
     "name": "stderr",
     "output_type": "stream",
     "text": [
      "/home/boada/.local/lib/python3.7/site-packages/scipy/integrate/quadrature.py:358: RuntimeWarning: divide by zero encountered in true_divide\n",
      "  h0divh1 = h0 / h1\n",
      "/home/boada/.local/lib/python3.7/site-packages/scipy/integrate/quadrature.py:360: RuntimeWarning: divide by zero encountered in true_divide\n",
      "  y[slice1]*hsum*hsum/hprod +\n",
      "/home/boada/.local/lib/python3.7/site-packages/scipy/integrate/quadrature.py:361: RuntimeWarning: invalid value encountered in add\n",
      "  y[slice2]*(2-h0divh1))\n"
     ]
    }
   ],
   "source": [
    "# check to make sure we have defined the bpz filter path\n",
    "if not os.getenv('EZGAL_FILTERS'):\n",
    "    os.environ['EZGAL_FILTERS'] = (f'{os.environ[\"HOME\"]}/Projects/planckClusters/MOSAICpipe/bpz-1.99.3/FILTER/')\n",
    "\n",
    "model = ezgal.model('bc03_ssp_z_0.02_salp.model')\n",
    "model = model.make_exponential(1)\n",
    "model.set_cosmology(Om=cosmo.Om0, Ol=cosmo.Ode0, h=cosmo.h, w=cosmo.w(0))\n",
    "                                   \n",
    "model.add_filter('g_MOSAICII.res', name='g')\n",
    "model.add_filter('r_MOSAICII.res', name='r')\n",
    "model.add_filter('i_MOSAICII.res', name='i')\n",
    "model.add_filter('z_MOSAICII.res', name='z')\n",
    "model.add_filter('K_KittPeak.res', name='K')\n",
    "\n",
    "# Blanton 2003 Normalization\n",
    "Mr_star = -20.44 + 5 * np.log10(cosmo.h) # abs mag.\n",
    "# set the normalization\n",
    "model.set_normalization('sloan_r', 0.1, Mr_star, vega=False)                                   "
   ]
  },
  {
   "cell_type": "markdown",
   "metadata": {},
   "source": [
    "# Calculate a few things to get going."
   ]
  },
  {
   "cell_type": "code",
   "execution_count": 5,
   "metadata": {},
   "outputs": [],
   "source": [
    "# desired formation redshift\n",
    "zf = 6.0\n",
    "# fetch an array of redshifts out to given formation redshift\n",
    "zs = model.get_zs(zf)\n",
    " \n",
    "# Calculate some cosmological stuff\n",
    "DM = cosmo.distmod(zs)\n",
    "dlum = cosmo.luminosity_distance(zs)"
   ]
  },
  {
   "cell_type": "markdown",
   "metadata": {},
   "source": [
    "# Define the functions that we'll need\n",
    "\n",
    "Need to compute the cluster volume...\n",
    "\n",
    "$M_{vir} = 4/3 \\pi r^3_{vir} \\rho_c(r<r_{vir}) = 4/3 \\pi r^3_{vir} \\Delta_c \\rho_c$\n",
    "\n",
    "if we let $\\Delta_c = 200$ then \n",
    "\n",
    "$M_{200} = 4/3 \\pi r^3_{200} 200 \\rho_c$ with $\\rho_c = \\frac{3H(z)^2}{8\\pi G}$\n",
    "\n",
    "or just $M_{200} = V_{200}200\\rho_c$. So we'll make a function to calculate $\\rho_c$. And we'll make use of the astropy units package to do all the unit analysis for us.\n",
    "\n",
    "Don't forget that $H(z) = H_0E(z)$ \n",
    "\n",
    "## We also need to integrate the Schechter luminosity functions..\n",
    "\n",
    "The Schechter Function:\n",
    "\n",
    "For Luminosity:\n",
    "\n",
    "$\\Phi(L) = \\phi^\\star \\frac{L}{L_\\star}^\\alpha e^{-\\frac{L}{L_\\star}}$\n",
    "\n",
    "For Magnitudes:\n",
    "\n",
    "$\\Phi(M) = \\phi^\\star\\frac{2}{5}log(10) (10^{\\frac{2}{5}(M_\\star - M)})^{\\alpha+1} e^{-10^{\\frac{2}{5}(M_\\star - M)}}$\n",
    "\n",
    "\n"
   ]
  },
  {
   "cell_type": "code",
   "execution_count": 6,
   "metadata": {},
   "outputs": [],
   "source": [
    "def rho_crit(z, cosmo):\n",
    "    # convert G into better units:\n",
    "    G = const.G.to(u.km**2 * u.Mpc/(u.M_sun * u.s**2))\n",
    "    return 3 / (8 * np.pi * G) * cosmo.H0**2 * cosmo.efunc(z)**2 # Mpc^3\n",
    "\n",
    "def schechterL(luminosity, phiStar, alpha, LStar): \n",
    "    \"\"\"Schechter luminosity function.\"\"\" \n",
    "    LOverLStar = (luminosity/LStar) \n",
    "    return (phiStar/LStar) * LOverLStar**alpha * np.exp(- LOverLStar) \n",
    "\n",
    "def schechterM(magnitude, phiStar, alpha, MStar): \n",
    "    \"\"\"Schechter luminosity function by magnitudes.\"\"\" \n",
    "    MStarMinM = 0.4 * (MStar - magnitude)\n",
    "    return (0.4 * np.log(10) * phiStar * 10.0**(MStarMinM * (alpha + 1.)) * np.exp(-10.**MStarMinM))"
   ]
  },
  {
   "cell_type": "markdown",
   "metadata": {},
   "source": [
    "# Mass limits from PSZ2"
   ]
  },
  {
   "cell_type": "code",
   "execution_count": 7,
   "metadata": {},
   "outputs": [
    {
     "name": "stderr",
     "output_type": "stream",
     "text": [
      "/home/boada/.local/lib/python3.7/site-packages/pandas/core/generic.py:6586: SettingWithCopyWarning: \n",
      "A value is trying to be set on a copy of a slice from a DataFrame\n",
      "\n",
      "See the caveats in the documentation: http://pandas.pydata.org/pandas-docs/stable/indexing.html#indexing-view-versus-copy\n",
      "  self._update_inplace(new_data)\n"
     ]
    }
   ],
   "source": [
    "from astropy.table import Table\n",
    "from scipy.interpolate import interp1d\n",
    "\n",
    "z1 = 0\n",
    "z2 = 2\n",
    "dz = 0.025\n",
    "\n",
    "# build the mass array\n",
    "zarr = np.arange(z1, z2 + dz, dz)\n",
    "\n",
    "ps2 = Table.read('../../catalogs/PSZ2v1.fits')\n",
    "df2 = ps2.to_pandas()\n",
    "data = df2[['REDSHIFT', 'MSZ']]\n",
    "data['REDSHIFT'].replace(-1, np.nan, inplace=True)\n",
    "\n",
    "# redshift bins\n",
    "zbins = [0, 0.1, 0.2, 0.3, 0.4, 0.5, 0.6, 0.7, 0.8, 3]\n",
    "\n",
    "nMasses = 100\n",
    "big_mass = []\n",
    "for j in range(nMasses):\n",
    "    mass = np.ones_like(zarr) * 1e14\n",
    "    for i in range(len(zbins) - 1):\n",
    "        mask = (zbins[i] <= zarr) & (zarr < zbins[i + 1])\n",
    "        mass[mask] *= float(data.loc[(zbins[i] <= data['REDSHIFT']) & (data['REDSHIFT'] < zbins[i + 1]), 'MSZ'].sample()) * cosmo.h\n",
    "    big_mass.append(mass)\n",
    "\n",
    "mass = np.vstack(big_mass)\n",
    "mass_func = interp1d(zarr, np.median(mass, axis=0))"
   ]
  },
  {
   "cell_type": "markdown",
   "metadata": {},
   "source": [
    "# Start Calculating things"
   ]
  },
  {
   "cell_type": "code",
   "execution_count": 8,
   "metadata": {},
   "outputs": [
    {
     "name": "stderr",
     "output_type": "stream",
     "text": [
      "/home/boada/.local/lib/python3.7/site-packages/ezgal/cosmology.py:185: RuntimeWarning: divide by zero encountered in log10\n",
      "  return 5. * num.log10(self.Dl(z) / self.pc / 10)\n"
     ]
    }
   ],
   "source": [
    "# So now we are going to calculate the volumes as a function of z\n",
    "\n",
    "#M200 = mass_func(zarr) * u.solMass\n",
    "\n",
    "M200 = 1e15 * u.solMass\n",
    "V200 = M200/ (200 * rho_crit(zs, cosmo))\n",
    "\n",
    "# Calculate the M_star values\n",
    "Mstar = model.get_absolute_mags(zf, filters='i', zs=zs)\n",
    "\n",
    "# calculate the abs mag of our limiting magnitude as a function of z\n",
    "mlim = 23.5\n",
    "#Mlim = Mstar - 2.5 * np.log10(0.4)\n",
    "Mlim = mlim - cosmo.distmod(zs).value - model.get_kcorrects(zf, filters='i', zs=zs)\n",
    "\n",
    "# Here are the Schechter function stuff from Liu et al.\n",
    "phi_star = 3.6 * cosmo.efunc(zs)**2\n",
    "alpha = -1.05 * (1 + zs)**(-2/3)\n",
    "fr = 0.8*(1 + zs)**(-1/2)\n",
    "\n",
    "#alpha = np.ones_like(alpha) * -1\n",
    "#Mpiv = 6e14 * u.solMass\n",
    "#zpiv = 0.6\n",
    "\n",
    "#alpha = -0.96 * (M200 / Mpiv)**0.01 * ((1 + zs)/ (1 + zpiv))**-0.94\n",
    "#phi_star = 1.68 * (M200 / Mpiv)**0.09 * ((1 + zs)/ (1 + zpiv))**0.09 * cosmo.efunc(zs)**2\n",
    "#fr = 0.62 * (M200 / Mpiv)**0.08 * ((1 + zs)/ (1 + zpiv))** -0.80\n"
   ]
  },
  {
   "cell_type": "code",
   "execution_count": 9,
   "metadata": {},
   "outputs": [
    {
     "name": "stderr",
     "output_type": "stream",
     "text": [
      "/home/boada/.local/lib/python3.7/site-packages/ipykernel_launcher.py:14: RuntimeWarning: overflow encountered in double_scalars\n",
      "  \n",
      "/home/boada/.local/lib/python3.7/site-packages/ipykernel_launcher.py:14: RuntimeWarning: invalid value encountered in double_scalars\n",
      "  \n",
      "/home/boada/.local/lib/python3.7/site-packages/ipykernel_launcher.py:7: IntegrationWarning: The occurrence of roundoff error is detected, which prevents \n",
      "  the requested tolerance from being achieved.  The error may be \n",
      "  underestimated.\n",
      "  import sys\n"
     ]
    }
   ],
   "source": [
    "LF = []\n",
    "for phi, a, M_star, M_lim in zip(phi_star, alpha, Mstar, Mlim):\n",
    "    if M_lim < M_star - 2.5 * np.log10(0.4):\n",
    "        Mlimit = M_lim\n",
    "    else:\n",
    "        Mlimit = M_star - 2.5 * np.log10(0.4)\n",
    "    y, err = quad(schechterM, -np.inf, Mlimit, args=(phi, a, M_star))\n",
    "    #print(M_star - M_lim, y)\n",
    "    LF.append(y)"
   ]
  },
  {
   "cell_type": "code",
   "execution_count": 10,
   "metadata": {},
   "outputs": [
    {
     "data": {
      "image/png": "[encoded data removed]",
      "text/plain": [
       "<Figure size 432x288 with 1 Axes>"
      ]
     },
     "metadata": {
      "needs_background": "light"
     },
     "output_type": "display_data"
    }
   ],
   "source": [
    "plt.figure()\n",
    "plt.plot(zs, (LF * V200.value + 1) * fr)\n",
    "ax = plt.gca()\n",
    "ax.set_yticks(np.arange(0, 75, 10))\n",
    "plt.xlim(0.1, 5)\n",
    "plt.ylim(0, 80)\n",
    "plt.xlabel('redshift')\n",
    "plt.ylabel('N (r < r200)')\n",
    "plt.grid()"
   ]
  },
  {
   "cell_type": "code",
   "execution_count": 12,
   "metadata": {},
   "outputs": [
    {
     "data": {
      "text/plain": [
       "Text(0, 0.5, 'abs Mag')"
      ]
     },
     "execution_count": 12,
     "metadata": {},
     "output_type": "execute_result"
    },
    {
     "data": {
      "image/png": "[encoded data removed]",
      "text/plain": [
       "<Figure size 432x288 with 1 Axes>"
      ]
     },
     "metadata": {
      "needs_background": "light"
     },
     "output_type": "display_data"
    }
   ],
   "source": [
    "# calculate the abs mag of our limiting magnitude as a function of z\n",
    "mlim = 23.5\n",
    "#Mlim = model.get_absolute_mags(zf, filters='i', zs=zs) - 2.5 * np.log10(0.4)\n",
    "Mlim = mlim - cosmo.distmod(zs).value - model.get_kcorrects(zf, filters='i', zs=zs)\n",
    "plt.figure()\n",
    "plt.plot(zs, model.get_absolute_mags(zf, filters='i', zs=zs))\n",
    "plt.plot(zs, Mlim)\n",
    "plt.plot(zs, model.get_absolute_mags(zf, filters='i', zs=zs) - 2.5 * np.log10(0.4))\n",
    "plt.grid()\n",
    "plt.xlabel('redshift')\n",
    "plt.ylabel('abs Mag')"
   ]
  },
  {
   "cell_type": "code",
   "execution_count": 13,
   "metadata": {},
   "outputs": [
    {
     "data": {
      "text/plain": [
       "array([ -8.1658134 ,  -9.68495902, -10.57712692, -11.21590893,\n",
       "       -11.71317736, -12.12290307, -12.47160961, -12.77411805,\n",
       "       -13.04159075, -13.28498939, -13.50334666, -13.7055737 ,\n",
       "       -13.89190301, -14.06351244, -14.22556981, -14.37699888,\n",
       "       -14.5193843 , -14.65682555, -14.78502903, -14.9069075 ,\n",
       "       -15.45391931, -15.91286253, -16.29646466, -16.62851574,\n",
       "       -16.93172572, -17.20374221, -17.45777789, -17.69273943,\n",
       "       -17.91992918, -18.12987769, -18.32865681, -18.51828907,\n",
       "       -18.69976994, -18.86891746, -19.03642649, -19.19397521,\n",
       "       -19.34179258, -19.4892439 , -19.63047416, -19.77424126,\n",
       "       -19.91108518, -20.03864248, -20.16951124, -20.29877324,\n",
       "       -20.42751841, -20.55921112, -20.69559866, -20.83252436,\n",
       "       -20.96665018, -21.09965252, -21.22894866, -21.35956163,\n",
       "       -21.47795764, -21.59165994, -21.69933654, -21.80210694,\n",
       "       -21.9075376 , -22.00622275, -22.10366806, -22.20027099,\n",
       "       -22.29100864, -22.36640173, -22.42845094, -22.4853484 ,\n",
       "       -22.54070856, -22.59598623, -22.64154941, -22.68710784,\n",
       "       -22.73522341, -22.77181238, -22.80550814, -22.84101844,\n",
       "       -22.87541961, -22.90532171, -22.93749864, -22.97262474,\n",
       "       -23.0040184 , -23.02902426, -23.05480989, -23.07906287,\n",
       "       -23.10292495, -23.11624035, -23.13175075, -23.15057037,\n",
       "       -23.17036084, -23.19080186, -23.2056804 , -23.22006052,\n",
       "       -23.23454612, -23.24620634, -23.25854034, -23.26844157,\n",
       "       -23.27908949, -23.28711613, -23.29326093, -23.29470352,\n",
       "       -23.2845006 , -23.27694714, -23.26086677, -23.23991968,\n",
       "       -23.22471461, -23.20682851, -23.20254638, -23.20022458,\n",
       "       -23.20164199, -23.18859621, -23.18097258, -23.16851309,\n",
       "       -23.16386204, -23.16584999, -23.16810358, -23.17140962,\n",
       "       -23.16695835, -23.16165199, -23.15524835, -23.1457666 ,\n",
       "       -23.13445458, -23.11387449, -23.08996102, -23.06516598,\n",
       "       -23.03316445, -23.00871584, -23.00112175, -22.99962852,\n",
       "       -22.9954707 , -22.97909149, -22.94948598, -22.92706284,\n",
       "       -22.89819333, -22.86368165, -22.81628033, -22.74636801,\n",
       "       -22.66224601, -22.52436841, -22.2811153 ])"
      ]
     },
     "execution_count": 13,
     "metadata": {},
     "output_type": "execute_result"
    }
   ],
   "source": [
    "Mlim"
   ]
  },
  {
   "cell_type": "code",
   "execution_count": 14,
   "metadata": {},
   "outputs": [
    {
     "data": {
      "text/plain": [
       "array([-20.57008079, -20.57597325, -20.58179183, -20.5875379 ,\n",
       "       -20.59315221, -20.59866339, -20.60410763, -20.60948613,\n",
       "       -20.61491286, -20.62028775, -20.62559825, -20.63085243,\n",
       "       -20.6361888 , -20.64146161, -20.64667197, -20.65183576,\n",
       "       -20.65708687, -20.66227606, -20.66740441, -20.67247647,\n",
       "       -20.69788217, -20.72276832, -20.74717636, -20.77114779,\n",
       "       -20.79472324, -20.81792192, -20.84079074, -20.86338788,\n",
       "       -20.88574247, -20.90787483, -20.92980046, -20.95167168,\n",
       "       -20.97363203, -20.99554516, -21.01738616, -21.03918731,\n",
       "       -21.06161016, -21.08403246, -21.10630224, -21.12975616,\n",
       "       -21.1531245 , -21.17677915, -21.20122247, -21.2250567 ,\n",
       "       -21.24963478, -21.27334722, -21.29763075, -21.32132178,\n",
       "       -21.34592426, -21.36980908, -21.39509567, -21.4191294 ,\n",
       "       -21.44521967, -21.47012112, -21.49621011, -21.52236259,\n",
       "       -21.54762003, -21.57405979, -21.59920148, -21.62422419,\n",
       "       -21.64926965, -21.67312985, -21.69756533, -21.72200031,\n",
       "       -21.74530574, -21.76907223, -21.79332112, -21.8164666 ,\n",
       "       -21.83881586, -21.86186659, -21.88390463, -21.9049975 ,\n",
       "       -21.9257851 , -21.94639376, -21.9661547 , -21.98512058,\n",
       "       -22.00429553, -22.02391864, -22.04276457, -22.06087984,\n",
       "       -22.07834128, -22.0978269 , -22.11655585, -22.13457271,\n",
       "       -22.15191844, -22.1688609 , -22.18704657, -22.20456059,\n",
       "       -22.22144057, -22.23891681, -22.25590052, -22.27281362,\n",
       "       -22.28943702, -22.30560051, -22.321552  , -22.33696369,\n",
       "       -22.39411387, -22.44588903, -22.49375884, -22.5380438 ,\n",
       "       -22.57862433, -22.61550049, -22.64884919, -22.67654611,\n",
       "       -22.70098555, -22.71283139, -22.72302176, -22.73026786,\n",
       "       -22.73867243, -22.74798509, -22.75503744, -22.76085581,\n",
       "       -22.7634457 , -22.76420858, -22.76318766, -22.7588282 ,\n",
       "       -22.75295011, -22.74506269, -22.73484423, -22.72297422,\n",
       "       -22.70898055, -22.69149613, -22.66881132, -22.64174969,\n",
       "       -22.61066417, -22.57631767, -22.53927451, -22.4985054 ,\n",
       "       -22.44854935, -22.38778485, -22.31630871, -22.22399321,\n",
       "       -22.09978338, -21.90739033, -21.53852064])"
      ]
     },
     "execution_count": 14,
     "metadata": {},
     "output_type": "execute_result"
    }
   ],
   "source": [
    "Mstar - 2.5 * np.log10(0.4)"
   ]
  },
  {
   "cell_type": "code",
   "execution_count": 15,
   "metadata": {},
   "outputs": [
    {
     "data": {
      "text/plain": [
       "array([2.56524068, 2.57496239, 2.58480829, 2.5947786 , 2.60487352,\n",
       "       2.61509328, 2.62543812, 2.63590825, 2.64650394, 2.65722542,\n",
       "       2.66807296, 2.6790468 , 2.69014722, 2.7013745 , 2.7127289 ,\n",
       "       2.72421071, 2.73582023, 2.74755773, 2.75942353, 2.77141792,\n",
       "       2.83332971, 2.89850436, 2.96698453, 3.03881509, 3.11404292,\n",
       "       3.19271665, 3.27488652, 3.36060417, 3.44992249, 3.54289555,\n",
       "       3.6395784 , 3.74002706, 3.84429835, 3.95244988, 4.06453993,\n",
       "       4.18062741, 4.30077181, 4.42503314, 4.55347189, 4.68614897,\n",
       "       4.82312573, 4.96446385, 5.11022536, 5.26047263, 5.41526828,\n",
       "       5.57467524, 5.73875664, 5.90757588, 6.08119656, 6.25968247,\n",
       "       6.4430976 , 6.6315061 , 6.67119425, 6.44094924, 6.23373234,\n",
       "       6.04020869, 5.81921663, 5.62802277, 5.42776437, 5.22280248,\n",
       "       5.04011196, 4.92332275, 4.87332859, 4.84631645, 4.81782225,\n",
       "       4.78861725, 4.81229945, 4.82777386, 4.82171217, 4.88408009,\n",
       "       4.95714151,        nan,        nan,        nan,        nan,\n",
       "              nan,        nan,        nan,        nan,        nan,\n",
       "              nan,        nan,        nan,        nan,        nan,\n",
       "              nan,        nan,        nan,        nan,        nan,\n",
       "              nan,        nan,        nan,        nan,        nan,\n",
       "              nan,        nan,        nan,        nan,        nan,\n",
       "              nan,        nan,        nan,        nan,        nan,\n",
       "              nan,        nan,        nan,        nan,        nan,\n",
       "              nan,        nan,        nan,        nan,        nan,\n",
       "              nan,        nan,        nan,        nan,        nan,\n",
       "              nan,        nan,        nan,        nan,        nan,\n",
       "              nan,        nan,        nan,        nan,        nan,\n",
       "              nan,        nan,        nan,        nan,        nan])"
      ]
     },
     "execution_count": 15,
     "metadata": {},
     "output_type": "execute_result"
    }
   ],
   "source": [
    "np.array(LF)"
   ]
  },
  {
   "cell_type": "code",
   "execution_count": 16,
   "metadata": {},
   "outputs": [
    {
     "data": {
      "text/plain": [
       "array([-1.04651452, -1.04305782, -1.03962952, -1.03622926, -1.03285666,\n",
       "       -1.02951137, -1.02619304, -1.02290132, -1.01963587, -1.01639636,\n",
       "       -1.01318245, -1.00999383, -1.00683018, -1.00369119, -1.00057656,\n",
       "       -0.99748597, -0.99441914, -0.99137577, -0.98835558, -0.98535829,\n",
       "       -0.97070578, -0.95658611, -0.94296894, -0.92982625, -0.91713213,\n",
       "       -0.90486257, -0.89299531, -0.88150964, -0.8703863 , -0.85960735,\n",
       "       -0.84915603, -0.83901671, -0.82917473, -0.81961638, -0.81032882,\n",
       "       -0.80129997, -0.79251849, -0.78397371, -0.77565559, -0.76755466,\n",
       "       -0.75966198, -0.75196911, -0.7444681 , -0.73715138, -0.73001183,\n",
       "       -0.72304268, -0.71623751, -0.70959023, -0.70309507, -0.69674653,\n",
       "       -0.69053938, -0.68446866, -0.67852962, -0.67271776, -0.66702877,\n",
       "       -0.66145855, -0.65600318, -0.65065893, -0.6454222 , -0.64028958,\n",
       "       -0.6352578 , -0.63032373, -0.62548436, -0.62073683, -0.61607836,\n",
       "       -0.61150633, -0.60701818, -0.60261149, -0.59828392, -0.59403321,\n",
       "       -0.58985721, -0.58575383, -0.58172108, -0.57775704, -0.57385984,\n",
       "       -0.5700277 , -0.5662589 , -0.56255179, -0.55890476, -0.55531627,\n",
       "       -0.55178484, -0.54830901, -0.54488741, -0.5415187 , -0.53820157,\n",
       "       -0.53493478, -0.53171712, -0.5285474 , -0.52542451, -0.52234735,\n",
       "       -0.51931484, -0.51632597, -0.51337973, -0.51047517, -0.50761134,\n",
       "       -0.50478735, -0.49387249, -0.48352913, -0.47371086, -0.46437627,\n",
       "       -0.45548835, -0.44701384, -0.43892281, -0.43118823, -0.42378563,\n",
       "       -0.41669278, -0.40988944, -0.40335716, -0.39707907, -0.3910397 ,\n",
       "       -0.38522485, -0.37962145, -0.37421747, -0.36900179, -0.36396413,\n",
       "       -0.35909495, -0.35438542, -0.34982733, -0.34541303, -0.3411354 ,\n",
       "       -0.3369878 , -0.332964  , -0.32905821, -0.32526498, -0.32157921,\n",
       "       -0.3179961 , -0.31451117, -0.31112017, -0.30781913, -0.30460427,\n",
       "       -0.30147205, -0.29841914, -0.29544236, -0.29253872, -0.28970539])"
      ]
     },
     "execution_count": 16,
     "metadata": {},
     "output_type": "execute_result"
    }
   ],
   "source": [
    "alpha"
   ]
  },
  {
   "cell_type": "code",
   "execution_count": 17,
   "metadata": {},
   "outputs": [
    {
     "ename": "NameError",
     "evalue": "name 'Phi' is not defined",
     "output_type": "error",
     "traceback": [
      "\u001b[0;31m---------------------------------------------------------------------------\u001b[0m",
      "\u001b[0;31mNameError\u001b[0m                                 Traceback (most recent call last)",
      "\u001b[0;32m<ipython-input-17-68b2c2651eff>\u001b[0m in \u001b[0;36m<module>\u001b[0;34m\u001b[0m\n\u001b[0;32m----> 1\u001b[0;31m \u001b[0mPhi\u001b[0m\u001b[0;34m\u001b[0m\u001b[0;34m\u001b[0m\u001b[0m\n\u001b[0m",
      "\u001b[0;31mNameError\u001b[0m: name 'Phi' is not defined"
     ]
    }
   ],
   "source": [
    "Phi"
   ]
  },
  {
   "cell_type": "code",
   "execution_count": null,
   "metadata": {},
   "outputs": [],
   "source": [
    "np.exp(-1)"
   ]
  },
  {
   "cell_type": "code",
   "execution_count": null,
   "metadata": {},
   "outputs": [],
   "source": []
  }
 ],
 "metadata": {
  "kernelspec": {
   "display_name": "Python 3",
   "language": "python",
   "name": "python3"
  },
  "language_info": {
   "codemirror_mode": {
    "name": "ipython",
    "version": 3
   },
   "file_extension": ".py",
   "mimetype": "text/x-python",
   "name": "python",
   "nbconvert_exporter": "python",
   "pygments_lexer": "ipython3",
   "version": "3.7.1"
  }
 },
 "nbformat": 4,
 "nbformat_minor": 2
}
